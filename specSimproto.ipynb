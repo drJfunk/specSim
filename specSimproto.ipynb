{
 "metadata": {
  "name": ""
 },
 "nbformat": 3,
 "nbformat_minor": 0,
 "worksheets": [
  {
   "cells": [
    {
     "cell_type": "code",
     "collapsed": false,
     "input": [
      "import astropy.io.fits as pf"
     ],
     "language": "python",
     "metadata": {},
     "outputs": [],
     "prompt_number": 1
    },
    {
     "cell_type": "code",
     "collapsed": false,
     "input": [
      "tteFile = pf.open(\"glg_tte_n3_bn080916009_v01.fit\")"
     ],
     "language": "python",
     "metadata": {},
     "outputs": [],
     "prompt_number": 2
    },
    {
     "cell_type": "code",
     "collapsed": false,
     "input": [
      "time = tteFile[2].data['TIME']"
     ],
     "language": "python",
     "metadata": {},
     "outputs": [],
     "prompt_number": 3
    },
    {
     "cell_type": "code",
     "collapsed": false,
     "input": [
      "pha= tteFile[2].data['PHA']"
     ],
     "language": "python",
     "metadata": {},
     "outputs": [],
     "prompt_number": 4
    },
    {
     "cell_type": "code",
     "collapsed": false,
     "input": [
      "from tteBuilder import tteBuilder"
     ],
     "language": "python",
     "metadata": {},
     "outputs": [],
     "prompt_number": 5
    },
    {
     "cell_type": "code",
     "collapsed": false,
     "input": [
      "tte=tteBuilder('test.fits')"
     ],
     "language": "python",
     "metadata": {},
     "outputs": [],
     "prompt_number": 6
    },
    {
     "cell_type": "code",
     "collapsed": false,
     "input": [
      "tte._CreatePrimaryHeader()"
     ],
     "language": "python",
     "metadata": {},
     "outputs": [],
     "prompt_number": 7
    },
    {
     "cell_type": "code",
     "collapsed": false,
     "input": [
      "tte._MakeEboundsEXT()"
     ],
     "language": "python",
     "metadata": {},
     "outputs": [],
     "prompt_number": 8
    },
    {
     "cell_type": "code",
     "collapsed": false,
     "input": [
      "tte._MakeEventsEXT(time,pha)"
     ],
     "language": "python",
     "metadata": {},
     "outputs": [],
     "prompt_number": 9
    },
    {
     "cell_type": "code",
     "collapsed": false,
     "input": [
      "tte._MakeHDUList()"
     ],
     "language": "python",
     "metadata": {},
     "outputs": [],
     "prompt_number": 11
    },
    {
     "cell_type": "code",
     "collapsed": false,
     "input": [
      "tte.hduList[1].data"
     ],
     "language": "python",
     "metadata": {},
     "outputs": [
      {
       "metadata": {},
       "output_type": "pyout",
       "prompt_number": 10,
       "text": [
        "FITS_rec([(0, 4.2337289, 5.1746864), (1, 5.1746864, 6.0905523),\n",
        "       (2, 6.0905523, 6.98592), (3, 6.98592, 7.8653831),\n",
        "       (4, 7.8653831, 8.7335348), (5, 8.7335348, 9.5949678),\n",
        "       (6, 9.5949678, 10.454277), (7, 10.454277, 11.489111),\n",
        "       (8, 11.489111, 12.535438), (9, 12.535438, 13.601194),\n",
        "       (10, 13.601194, 14.694283), (11, 14.694283, 15.818029),\n",
        "       (12, 15.818029, 16.966637), (13, 16.966637, 18.133232),\n",
        "       (14, 18.133232, 19.507822), (15, 19.507822, 20.887411),\n",
        "       (16, 20.887411, 22.275204), (17, 22.275204, 23.685507),\n",
        "       (18, 23.685507, 25.132975), (19, 25.132975, 26.632256),\n",
        "       (20, 26.632256, 28.427954), (21, 28.427954, 30.332329),\n",
        "       (22, 30.332329, 32.367249), (23, 32.367249, 34.330555),\n",
        "       (24, 34.330555, 35.756786), (25, 35.756786, 37.375767),\n",
        "       (26, 37.375767, 39.030491), (27, 39.030491, 40.7192),\n",
        "       (28, 40.7192, 42.440136), (29, 42.440136, 44.387943),\n",
        "       (30, 44.387943, 46.370956), (31, 46.370956, 48.386761),\n",
        "       (32, 48.386761, 50.432938), (33, 50.432938, 52.715942),\n",
        "       (34, 52.715942, 55.029575), (35, 55.029575, 57.370621),\n",
        "       (36, 57.370621, 59.735874), (37, 59.735874, 62.339985),\n",
        "       (38, 62.339985, 64.964905), (39, 64.964905, 67.606483),\n",
        "       (40, 67.606483, 70.482132), (41, 70.482132, 73.367134),\n",
        "       (42, 73.367134, 76.25618), (43, 76.25618, 79.365898),\n",
        "       (44, 79.365898, 82.467567), (45, 82.467567, 85.557198),\n",
        "       (46, 85.557198, 88.855125), (47, 88.855125, 92.141899),\n",
        "       (48, 92.141899, 95.419228), (49, 95.419228, 98.906548),\n",
        "       (50, 98.906548, 102.38712), (51, 102.38712, 105.86301),\n",
        "       (52, 105.86301, 109.55332), (53, 109.55332, 113.24315),\n",
        "       (54, 113.24315, 117.15225), (55, 117.15225, 121.06654),\n",
        "       (56, 121.06654, 125.20675), (57, 125.20675, 129.35634),\n",
        "       (58, 129.35634, 133.73441), (59, 133.73441, 138.12273),\n",
        "       (60, 138.12273, 142.52124), (61, 142.52124, 147.15057),\n",
        "       (62, 147.15057, 151.79097), (63, 151.79097, 156.66414),\n",
        "       (64, 156.66414, 161.77159), (65, 161.77159, 166.89201),\n",
        "       (66, 166.89201, 172.24878), (67, 172.24878, 177.61943),\n",
        "       (68, 177.61943, 183.22847), (69, 183.22847, 188.85229),\n",
        "       (70, 188.85229, 194.71661), (71, 194.71661, 200.82309),\n",
        "       (72, 200.82309, 206.94629), (73, 206.94629, 213.31377),\n",
        "       (74, 213.31377, 219.92722), (75, 219.92722, 226.55934),\n",
        "       (76, 226.55934, 233.43958), (77, 233.43958, 240.56964),\n",
        "       (78, 240.56964, 247.95129), (79, 247.95129, 255.35455),\n",
        "       (80, 255.35455, 263.01151), (81, 263.01151, 270.92386),\n",
        "       (82, 270.92386, 279.09335), (83, 279.09335, 287.28723),\n",
        "       (84, 287.28723, 295.7403), (85, 295.7403, 304.45416),\n",
        "       (86, 304.45416, 313.43054), (87, 313.43054, 322.67108),\n",
        "       (88, 322.67108, 332.1774), (89, 332.1774, 341.95108),\n",
        "       (90, 341.95108, 351.99368), (91, 351.99368, 362.30676),\n",
        "       (92, 362.30676, 372.89175), (93, 372.89175, 383.75009),\n",
        "       (94, 383.75009, 394.88318), (95, 394.88318, 406.29227),\n",
        "       (96, 406.29227, 417.97861), (97, 417.97861, 430.18793),\n",
        "       (98, 430.18793, 442.67816), (99, 442.67816, 455.45023),\n",
        "       (100, 455.45023, 468.50504), (101, 468.50504, 481.84332),\n",
        "       (102, 481.84332, 495.71375), (103, 495.71375, 509.87009),\n",
        "       (104, 509.87009, 524.31268), (105, 524.31268, 539.29169),\n",
        "       (106, 539.29169, 554.55841), (107, 554.55841, 570.36377),\n",
        "       (108, 570.36377, 586.4574), (109, 586.4574, 603.09094),\n",
        "       (110, 603.09094, 620.01233), (111, 620.01233, 637.47369),\n",
        "       (112, 637.47369, 655.47504), (113, 655.47504, 673.76172),\n",
        "       (114, 673.76172, 692.5863), (115, 692.5863, 711.94739),\n",
        "       (116, 711.94739, 731.84308), (117, 731.84308, 752.27106),\n",
        "       (118, 752.27106, 772.97247), (119, 772.97247, 794.19897),\n",
        "       (120, 794.19897, 815.94623), (121, 815.94623, 838.20929),\n",
        "       (122, 838.20929, 860.9823), (123, 860.9823, 884.51434),\n",
        "       (124, 884.51434, 908.54175), (125, 908.54175, 933.05573),\n",
        "       (126, 933.05573, 958.04657), (127, 958.04657, 2000.0)], \n",
        "      dtype=[('CHANNEL', '<i2'), ('E_MIN', '<f4'), ('E_MAX', '<f4')])"
       ]
      }
     ],
     "prompt_number": 10
    },
    {
     "cell_type": "code",
     "collapsed": false,
     "input": [
      "b.header[\"crap\"]=0"
     ],
     "language": "python",
     "metadata": {},
     "outputs": [],
     "prompt_number": 8
    },
    {
     "cell_type": "code",
     "collapsed": false,
     "input": [
      "b.header"
     ],
     "language": "python",
     "metadata": {},
     "outputs": [
      {
       "metadata": {},
       "output_type": "pyout",
       "prompt_number": 9,
       "text": [
        "XTENSION= 'BINTABLE'           / binary table extension                         \n",
        "BITPIX  =                    8 / array data type                                \n",
        "NAXIS   =                    2 / number of array dimensions                     \n",
        "NAXIS1  =                   10 / length of dimension 1                          \n",
        "NAXIS2  =                  128 / length of dimension 2                          \n",
        "PCOUNT  =                    0 / number of group parameters                     \n",
        "GCOUNT  =                    1 / number of groups                               \n",
        "TFIELDS =                    3 / number of table fields                         \n",
        "TTYPE1  = 'CHANNEL '                                                            \n",
        "TFORM1  = '1I      '                                                            \n",
        "TUNIT1  = 'none    '                                                            \n",
        "TTYPE2  = 'E_MIN   '                                                            \n",
        "TFORM2  = '1E      '                                                            \n",
        "TUNIT2  = 'keV     '                                                            \n",
        "TTYPE3  = 'E_MAX   '                                                            \n",
        "TFORM3  = '1E      '                                                            \n",
        "TUNIT3  = 'keV     '                                                            \n",
        "CRAP    =                    0                                                  "
       ]
      }
     ],
     "prompt_number": 9
    },
    {
     "cell_type": "code",
     "collapsed": false,
     "input": [
      "tteFile[2].header"
     ],
     "language": "python",
     "metadata": {},
     "outputs": [
      {
       "metadata": {},
       "output_type": "pyout",
       "prompt_number": 15,
       "text": [
        "XTENSION= 'BINTABLE'           / binary table extension                         \n",
        "BITPIX  =                    8 / 8-bit bytes                                    \n",
        "NAXIS   =                    2 / 2-dimensional binary table                     \n",
        "NAXIS1  =                   10 / width of table in bytes                        \n",
        "NAXIS2  =               451128 / number of rows in table                        \n",
        "PCOUNT  =                    0 / size of special data area                      \n",
        "GCOUNT  =                    1 / one data group (required keyword)              \n",
        "TFIELDS =                    2 / number of fields in each row                   \n",
        "TTYPE1  = 'TIME    '           / label for field   1                            \n",
        "TFORM1  = '1D      '           / data format of field: 8-byte DOUBLE            \n",
        "TUNIT1  = 's       '           / physical unit of field                         \n",
        "TZERO1  =     243216766.613542 / Offset, equal to TRIGTIME                      \n",
        "TTYPE2  = 'PHA     '           / label for field   2                            \n",
        "TFORM2  = '1I      '           / data format of field: 2-byte INTEGER           \n",
        "TUNIT2  = 'none    '           / physical unit of field                         \n",
        "EXTNAME = 'EVENTS  '           / name of this binary table extension            \n",
        "TELESCOP= 'GLAST   '           / Name of mission/satellite                      \n",
        "INSTRUME= 'GBM     '           / Specific instrument used for observation       \n",
        "DETNAM  = 'NAI_03  '           / Individual detector name                       \n",
        "OBSERVER= 'Meegan  '           / GLAST Burst Monitor P.I.                       \n",
        "ORIGIN  = 'GIOC    '           / Name of organization making file               \n",
        "DATE    = '2009-05-19T18:49:32' / file creation date (YYYY-MM-DDThh:mm:ss UT)   \n",
        "DATE-OBS= '2008-09-16T00:12:20' / Date of start of observation                  \n",
        "DATE-END= '2008-09-16T00:17:47' / Date of end of observation                    \n",
        "TIMESYS = 'TT      '           / Time system used in time keywords              \n",
        "TIMEUNIT= 's       '           / Time since MJDREF, used in TSTART and TSTOP    \n",
        "MJDREFI =                51910 / MJD of GLAST reference epoch, integer part     \n",
        "MJDREFF = 7.428703703703703D-4 / MJD of GLAST reference epoch, fractional part  \n",
        "TSTART  =     243216740.670344 / [GLAST MET] Observation start time             \n",
        "TSTOP   =     243217067.272056 / [GLAST MET] Observation stop time              \n",
        "TRIGTIME=     243216766.613542 / Trigger time relative to MJDREF, double precisi\n",
        "OBJECT  = 'GRB080916009'       / Burst name in standard format, yymmddfff       \n",
        "RADECSYS= 'FK5     '           / Stellar reference frame                        \n",
        "EQUINOX =               2000.0 / Equinox for RA and Dec                         \n",
        "RA_OBJ  =              30.0000 / Calculated RA of burst                         \n",
        "DEC_OBJ =              -15.000 / Calculated Dec of burst                        \n",
        "ERR_RAD =                3.000 / Calculated Location Error Radius               \n",
        "RESPFILE= 'glg_cspec_n3_bn080916009_v00.rsp' / Name of corresponding RMF file (i\n",
        "EVT_DEAD=           2.6000E-06 / [s] Deadtime per event                         \n",
        "EVTDEDHI=          1.04170E-05 / [s] Deadtime per overflow channel event        \n",
        "DETCHANS=                  128 / Total number of channels in each rate          \n",
        "HDUCLASS= 'OGIP    '           / format conforms to OGIP/GSFC conventions       \n",
        "HDUCLAS1= 'EVENTS  '           / Extension contains Events                      \n",
        "EXTVER  =                    1 / Version of this extension format               \n",
        "CHECKSUM= 'MU66MS33MS33MS33'   / HDU checksum updated 2012-08-16T19:50:01       \n",
        "DATASUM = '4099077776'         / data unit checksum updated 2009-05-19T18:49:34 "
       ]
      }
     ],
     "prompt_number": 15
    },
    {
     "cell_type": "code",
     "collapsed": false,
     "input": [
      "test=pf.open(\"test.fits\")"
     ],
     "language": "python",
     "metadata": {},
     "outputs": [],
     "prompt_number": 12
    },
    {
     "cell_type": "code",
     "collapsed": false,
     "input": [
      "test[1].header"
     ],
     "language": "python",
     "metadata": {},
     "outputs": [
      {
       "metadata": {},
       "output_type": "pyout",
       "prompt_number": 13,
       "text": [
        "XTENSION= 'BINTABLE'           / binary table extension                         \n",
        "BITPIX  =                    8 / array data type                                \n",
        "NAXIS   =                    2 / number of array dimensions                     \n",
        "NAXIS1  =                   10 / length of dimension 1                          \n",
        "NAXIS2  =                  128 / length of dimension 2                          \n",
        "PCOUNT  =                    0 / number of group parameters                     \n",
        "GCOUNT  =                    1 / number of groups                               \n",
        "TFIELDS =                    3 / number of table fields                         \n",
        "TTYPE1  = 'CHANNEL '                                                            \n",
        "TFORM1  = '1I      '                                                            \n",
        "TUNIT1  = 'none    '                                                            \n",
        "TTYPE2  = 'E_MIN   '                                                            \n",
        "TFORM2  = '1E      '                                                            \n",
        "TUNIT2  = 'keV     '                                                            \n",
        "TTYPE3  = 'E_MAX   '                                                            \n",
        "TFORM3  = '1E      '                                                            \n",
        "TUNIT3  = 'keV     '                                                            \n",
        "TELESCOP= 'GLAST   '                                                            \n",
        "INSTRUME= 'GBM     '                                                            \n",
        "DETNAM  = 'NAI_03  '                                                            \n",
        "OBSERVER= 'Meegan  '                                                            \n",
        "ORIGIN  = 'GIOC    '                                                            \n",
        "DATE    = '2009-05-19T18:49:32'                                                 \n",
        "DATE-OBS= '2008-09-16T00:12:20'                                                 \n",
        "DATE-END= '2008-09-16T00:17:47'                                                 \n",
        "TIMESYS = 'TT      '                                                            \n",
        "TIMEUNIT= 's       '                                                            \n",
        "MJDREFI =                51910                                                  \n",
        "MJDREFF = 0.000742870370370370                                                  \n",
        "TSTART  =     243216740.670344                                                  \n",
        "TSTOP   =     243217067.272056                                                  \n",
        "FILENAME= 'test.fits'                                                           \n",
        "DATATYPE= 'TTE     '                                                            \n",
        "TRIGTIME=     243216766.613542                                                  \n",
        "OBJECT  = 'GRB000000000'                                                        \n",
        "RADECSYS= 'FK5     '                                                            \n",
        "EQUINOX =               2000.0                                                  \n",
        "RA_OBJ  =                 30.0                                                  \n",
        "DEC_OBJ =                -15.0                                                  \n",
        "ERR_RAD =                  3.0                                                  \n",
        "INFILE01= 'glg_lutcs_nai_080915695_v00.fit'                                     \n",
        "INFILE02= 'GLAST_2008260_074300_VC09_GBTTE.0.00'                                \n",
        "CHECKSUM= 'PZaEQWTCPWZCPWZC'                                                    \n",
        "DATASUM = '         0'                                                          "
       ]
      }
     ],
     "prompt_number": 13
    },
    {
     "cell_type": "code",
     "collapsed": false,
     "input": [
      "tteFile[2].header"
     ],
     "language": "python",
     "metadata": {},
     "outputs": [
      {
       "metadata": {},
       "output_type": "pyout",
       "prompt_number": 18,
       "text": [
        "XTENSION= 'BINTABLE'           / binary table extension                         \n",
        "BITPIX  =                    8 / 8-bit bytes                                    \n",
        "NAXIS   =                    2 / 2-dimensional binary table                     \n",
        "NAXIS1  =                   10 / width of table in bytes                        \n",
        "NAXIS2  =               451128 / number of rows in table                        \n",
        "PCOUNT  =                    0 / size of special data area                      \n",
        "GCOUNT  =                    1 / one data group (required keyword)              \n",
        "TFIELDS =                    2 / number of fields in each row                   \n",
        "TTYPE1  = 'TIME    '           / label for field   1                            \n",
        "TFORM1  = '1D      '           / data format of field: 8-byte DOUBLE            \n",
        "TUNIT1  = 's       '           / physical unit of field                         \n",
        "TZERO1  =     243216766.613542 / Offset, equal to TRIGTIME                      \n",
        "TTYPE2  = 'PHA     '           / label for field   2                            \n",
        "TFORM2  = '1I      '           / data format of field: 2-byte INTEGER           \n",
        "TUNIT2  = 'none    '           / physical unit of field                         \n",
        "EXTNAME = 'EVENTS  '           / name of this binary table extension            \n",
        "TELESCOP= 'GLAST   '           / Name of mission/satellite                      \n",
        "INSTRUME= 'GBM     '           / Specific instrument used for observation       \n",
        "DETNAM  = 'NAI_03  '           / Individual detector name                       \n",
        "OBSERVER= 'Meegan  '           / GLAST Burst Monitor P.I.                       \n",
        "ORIGIN  = 'GIOC    '           / Name of organization making file               \n",
        "DATE    = '2009-05-19T18:49:32' / file creation date (YYYY-MM-DDThh:mm:ss UT)   \n",
        "DATE-OBS= '2008-09-16T00:12:20' / Date of start of observation                  \n",
        "DATE-END= '2008-09-16T00:17:47' / Date of end of observation                    \n",
        "TIMESYS = 'TT      '           / Time system used in time keywords              \n",
        "TIMEUNIT= 's       '           / Time since MJDREF, used in TSTART and TSTOP    \n",
        "MJDREFI =                51910 / MJD of GLAST reference epoch, integer part     \n",
        "MJDREFF = 7.428703703703703D-4 / MJD of GLAST reference epoch, fractional part  \n",
        "TSTART  =     243216740.670344 / [GLAST MET] Observation start time             \n",
        "TSTOP   =     243217067.272056 / [GLAST MET] Observation stop time              \n",
        "TRIGTIME=     243216766.613542 / Trigger time relative to MJDREF, double precisi\n",
        "OBJECT  = 'GRB080916009'       / Burst name in standard format, yymmddfff       \n",
        "RADECSYS= 'FK5     '           / Stellar reference frame                        \n",
        "EQUINOX =               2000.0 / Equinox for RA and Dec                         \n",
        "RA_OBJ  =              30.0000 / Calculated RA of burst                         \n",
        "DEC_OBJ =              -15.000 / Calculated Dec of burst                        \n",
        "ERR_RAD =                3.000 / Calculated Location Error Radius               \n",
        "RESPFILE= 'glg_cspec_n3_bn080916009_v00.rsp' / Name of corresponding RMF file (i\n",
        "EVT_DEAD=           2.6000E-06 / [s] Deadtime per event                         \n",
        "EVTDEDHI=          1.04170E-05 / [s] Deadtime per overflow channel event        \n",
        "DETCHANS=                  128 / Total number of channels in each rate          \n",
        "HDUCLASS= 'OGIP    '           / format conforms to OGIP/GSFC conventions       \n",
        "HDUCLAS1= 'EVENTS  '           / Extension contains Events                      \n",
        "EXTVER  =                    1 / Version of this extension format               \n",
        "CHECKSUM= 'MU66MS33MS33MS33'   / HDU checksum updated 2012-08-16T19:50:01       \n",
        "DATASUM = '4099077776'         / data unit checksum updated 2009-05-19T18:49:34 "
       ]
      }
     ],
     "prompt_number": 18
    },
    {
     "cell_type": "code",
     "collapsed": false,
     "input": [
      "test[1].header"
     ],
     "language": "python",
     "metadata": {},
     "outputs": [
      {
       "metadata": {},
       "output_type": "pyout",
       "prompt_number": 17,
       "text": [
        "XTENSION= 'BINTABLE'           / binary table extension                         \n",
        "BITPIX  =                    8 / array data type                                \n",
        "NAXIS   =                    2 / number of array dimensions                     \n",
        "NAXIS1  =                   10 / length of dimension 1                          \n",
        "NAXIS2  =                  128 / length of dimension 2                          \n",
        "PCOUNT  =                    0 / number of group parameters                     \n",
        "GCOUNT  =                    1 / number of groups                               \n",
        "TFIELDS =                    3 / number of table fields                         \n",
        "TTYPE1  = 'CHANNEL '                                                            \n",
        "TFORM1  = '1I      '                                                            \n",
        "TUNIT1  = 'none    '                                                            \n",
        "TTYPE2  = 'E_MIN   '                                                            \n",
        "TFORM2  = '1E      '                                                            \n",
        "TUNIT2  = 'keV     '                                                            \n",
        "TTYPE3  = 'E_MAX   '                                                            \n",
        "TFORM3  = '1E      '                                                            \n",
        "TUNIT3  = 'keV     '                                                            \n",
        "TELESCOP= 'GLAST   '                                                            \n",
        "INSTRUME= 'GBM     '                                                            \n",
        "DETNAM  = 'NAI_03  '                                                            \n",
        "OBSERVER= 'Meegan  '                                                            \n",
        "ORIGIN  = 'GIOC    '                                                            \n",
        "DATE    = '2009-05-19T18:49:32'                                                 \n",
        "DATE-OBS= '2008-09-16T00:12:20'                                                 \n",
        "DATE-END= '2008-09-16T00:17:47'                                                 \n",
        "TIMESYS = 'TT      '                                                            \n",
        "TIMEUNIT= 's       '                                                            \n",
        "MJDREFI =                51910                                                  \n",
        "MJDREFF = 0.000742870370370370                                                  \n",
        "TSTART  =     243216740.670344                                                  \n",
        "TSTOP   =     243217067.272056                                                  \n",
        "FILENAME= 'test.fits'                                                           \n",
        "DATATYPE= 'TTE     '                                                            \n",
        "TRIGTIME=     243216766.613542                                                  \n",
        "OBJECT  = 'GRB000000000'                                                        \n",
        "RADECSYS= 'FK5     '                                                            \n",
        "EQUINOX =               2000.0                                                  \n",
        "RA_OBJ  =                 30.0                                                  \n",
        "DEC_OBJ =                -15.0                                                  \n",
        "ERR_RAD =                  3.0                                                  \n",
        "INFILE01= 'glg_lutcs_nai_080915695_v00.fit'                                     \n",
        "INFILE02= 'GLAST_2008260_074300_VC09_GBTTE.0.00'                                \n",
        "CHECKSUM= 'PZaEQWTCPWZCPWZC'                                                    \n",
        "DATASUM = '         0'                                                          "
       ]
      }
     ],
     "prompt_number": 17
    },
    {
     "cell_type": "code",
     "collapsed": false,
     "input": [],
     "language": "python",
     "metadata": {},
     "outputs": []
    }
   ],
   "metadata": {}
  }
 ]
}