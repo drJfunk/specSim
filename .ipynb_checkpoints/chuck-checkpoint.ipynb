{
 "metadata": {
  "name": "",
  "signature": "sha256:ccd9ce5cae6eb816522d0a203cd697cab50b8ba982a4daddd78b7b758b28d58f"
 },
 "nbformat": 3,
 "nbformat_minor": 0,
 "worksheets": [
  {
   "cells": [
    {
     "cell_type": "code",
     "collapsed": false,
     "input": [
      "from scipy.integrate import quad, quadrature"
     ],
     "language": "python",
     "metadata": {},
     "outputs": [],
     "prompt_number": 2
    },
    {
     "cell_type": "code",
     "collapsed": false,
     "input": [
      "tf=1.\n",
      "c=2.99E10\n",
      "z=1.\n",
      "Gamma=300.\n",
      "beta = (1.-Gamma**(-2.))**.5\n",
      "\n",
      "etaT = .1\n",
      "etaR = 1.\n",
      "etaW = .1\n",
      "\n",
      "r0= 2. * etaR * (Gamma**2.) * c * tf/(1.+z)\n",
      "\n",
      "deltaTprime = 2. * Gamma * etaT * tf/(1.+z)\n",
      "\n",
      "deltaRprime = 2. * Gamma * etaW * c * tf/(1.+z)\n",
      "\n",
      "deltaR = deltaRprime/Gamma\n",
      "\n",
      "\n",
      "\n",
      "\n",
      "dL = 2.02E28\n",
      "\n",
      "u0 = 1.\n",
      "\n",
      "\n",
      "\n",
      "print r0\n",
      "print beta\n",
      "print deltaTprime\n",
      "print deltaR\n",
      "\n"
     ],
     "language": "python",
     "metadata": {},
     "outputs": [
      {
       "output_type": "stream",
       "stream": "stdout",
       "text": [
        "2.691e+15\n",
        "0.999994444429\n",
        "30.0\n",
        "2990000000.0\n"
       ]
      }
     ],
     "prompt_number": 75
    },
    {
     "cell_type": "code",
     "collapsed": false,
     "input": [
      "def H(x):\n",
      "    \n",
      "    return piecewise(x,[x<0,x>=0],[0.,1.])\n",
      "\n",
      "def H_scalar(x):\n",
      "    \n",
      "    if x < 0.:\n",
      "        return 0.\n",
      "    else:\n",
      "        return 1.\n",
      "    \n",
      "    \n",
      "    "
     ],
     "language": "python",
     "metadata": {},
     "outputs": [],
     "prompt_number": 76
    },
    {
     "cell_type": "code",
     "collapsed": false,
     "input": [
      "def epT(t):\n",
      "    \n",
      "    \n",
      "    v=0.\n",
      "    m=1.\n",
      "    \n",
      "    val = t**(-2*m*(1+v))\n",
      "    \n",
      "    return val\n",
      "    \n",
      "    \n",
      "    \n",
      "    \n",
      "    "
     ],
     "language": "python",
     "metadata": {},
     "outputs": [],
     "prompt_number": 77
    },
    {
     "cell_type": "code",
     "collapsed": false,
     "input": [
      "\n",
      "    \n",
      "    \n",
      "def spectrum(e,mu):\n",
      "    \n",
      "    a=4./3.\n",
      "    b=-1./2.\n",
      "    ep0 = 1.\n",
      "    epPrime = (1+z)*ep0/(2*Gamma)\n",
      "    x=(e/epPrime)*(1+z)/dopplerF(mu)\n",
      "    \n",
      "    return x**a*H(1-x)+x**b*H(x-1)\n",
      "\n",
      "def spectrum_scalar(e,mu,t):\n",
      "    \n",
      "    \n",
      "    tz=t/(1+z)\n",
      "    \n",
      "    tzPrime = tz#*Gamma\n",
      "    \n",
      "    \n",
      "    a=4./3.\n",
      "    b=-1./2.\n",
      "    ep0 = 300.#*epT(tzPrime)\n",
      "    \n",
      "    epPrime = (1.+z)*ep0/(2.*Gamma)\n",
      "    \n",
      "    x=(e/epPrime)*(1.+z)/dopplerF(mu)\n",
      "    \n",
      "    return (x**a) * H_scalar(1.-x) + (x**b) * H_scalar(x-1.)\n",
      "    \n",
      "  \n",
      "\n",
      "\n",
      "def dopplerF(mu):\n",
      "    \n",
      "    return 1./(Gamma*(1.-beta*mu))\n",
      "\n",
      "\n",
      "###################################################\n",
      "###################################################\n",
      "###################################################\n",
      "\n",
      "def rl(mu,t):\n",
      "    \n",
      "    tz=t/(1.+z)\n",
      "    \n",
      "    a = beta*c*tz/(1. - beta*mu)\n",
      "    \n",
      "    b = ((r0/beta) - c*tz)/mu\n",
      "    \n",
      "    return max([a,b])\n",
      "    \n",
      "\n",
      "def ru(mu,t):\n",
      "\n",
      "    tz=t/(1.+z)\n",
      "    \n",
      "    a=(beta*c*tz + deltaR)/(1. - beta*mu) \n",
      "   \n",
      "    b=((r0/beta) - c*tz + c*Gamma*deltaTprime)/mu\n",
      "\n",
      "    return min([a,b])\n",
      "\n",
      "###################################################\n",
      "###################################################\n",
      "###################################################\n",
      "\n",
      "\n",
      "\n",
      "def integrand(mu,e,t):\n",
      "    \n",
      "    \n",
      "    if ru(mu,t) < rl(mu,t):\n",
      "        return 0.\n",
      "    else:\n",
      "    \n",
      "    \n",
      "     \n",
      "        return dopplerF(mu)**3. * (ru(mu,t)**3. - rl(mu,t)**3.) * spectrum_scalar(e,mu,t)\n",
      "    \n",
      "\n",
      "\n",
      "def f(e,t,muJ):\n",
      "    \n",
      "    norm = c*u0/(6.*dL**2*deltaRprime)\n",
      "    \n",
      "    \n",
      "    \n",
      "    return norm*quad(integrand,muJ,1.,args=(e,t))[0]\n",
      "    \n",
      "    "
     ],
     "language": "python",
     "metadata": {},
     "outputs": [],
     "prompt_number": 80
    },
    {
     "cell_type": "code",
     "collapsed": false,
     "input": [
      "tint = (r0/(2*Gamma**2*c)- deltaR/c)*(z+1)\n",
      "tGrid = linspace(0,5.,100)\n",
      "eGrid = logspace(-2.,1,5)\n",
      "\n",
      "\n",
      "res1 = []\n",
      "for e in eGrid:\n",
      "    \n",
      "    res= []\n",
      "    for t in tGrid:\n",
      "    \n",
      "        res.append(f(e,t+tint,cos(1./Gamma)))\n",
      "\n",
      "    res1.append(res)\n",
      "    plot(tGrid,res,'-')\n",
      "\n",
      "    \n",
      "legend(eGrid)\n",
      "ylim(bottom=0)\n",
      "\n"
     ],
     "language": "python",
     "metadata": {},
     "outputs": [
      {
       "metadata": {},
       "output_type": "pyout",
       "prompt_number": 81,
       "text": [
        "(0, 1.7999999999999999e-13)"
       ]
      },
      {
       "metadata": {},
       "output_type": "display_data",
       "png": "[encoded data removed]",
       "text": [
        "<matplotlib.figure.Figure at 0x10a076150>"
       ]
      }
     ],
     "prompt_number": 81
    },
    {
     "cell_type": "code",
     "collapsed": false,
     "input": [
      "tint = (r0/(2*Gamma**2*c)- deltaR/c)*(z+1)\n",
      "tGrid = linspace(0,5.,100)\n",
      "eGrid = logspace(-2.,1,5)\n",
      "\n",
      "\n",
      "res1 = zeros(len(tGrid))\n",
      "for e in eGrid:\n",
      "    \n",
      "    res= []\n",
      "    for t in tGrid:\n",
      "    \n",
      "        res.append(f(e,t+tint,cos(1./Gamma)))\n",
      "\n",
      "    res = array(res)\n",
      "    \n",
      "    res1+=res\n",
      "    \n",
      "plot(tGrid,res1,'-')\n",
      "\n",
      "    \n",
      "\n",
      "ylim(bottom=0)"
     ],
     "language": "python",
     "metadata": {},
     "outputs": [
      {
       "metadata": {},
       "output_type": "pyout",
       "prompt_number": 73,
       "text": [
        "(0, 1.6e-11)"
       ]
      },
      {
       "metadata": {},
       "output_type": "display_data",
       "png": "[encoded data removed]",
       "text": [
        "<matplotlib.figure.Figure at 0x109e492d0>"
       ]
      }
     ],
     "prompt_number": 73
    },
    {
     "cell_type": "code",
     "collapsed": false,
     "input": [
      "res1"
     ],
     "language": "python",
     "metadata": {},
     "outputs": [
      {
       "metadata": {},
       "output_type": "pyout",
       "prompt_number": 66,
       "text": [
        "array([  0.00000000e+00,   1.74057682e-12,   6.34469951e-12,\n",
        "         1.30992728e-11,   2.14997851e-11,   2.96765913e-11,\n",
        "         3.65365712e-11,   4.24100913e-11,   4.75354179e-11,\n",
        "         5.20867862e-11,   5.61932350e-11,   5.99514536e-11,\n",
        "         6.34346784e-11,   6.66989388e-11,   6.97875007e-11,\n",
        "         7.27340645e-11,   7.55650935e-11,   7.83015254e-11,\n",
        "         8.09600449e-11,   8.35540364e-11,   8.60251411e-11,\n",
        "         8.62114470e-11,   8.34107504e-11,   7.80120283e-11,\n",
        "         7.04320890e-11,   6.29673999e-11,   5.64084385e-11,\n",
        "         5.06272568e-11,   4.55163449e-11,   4.09849824e-11,\n",
        "         3.69563311e-11,   3.33650755e-11,   3.01555021e-11,\n",
        "         2.72799299e-11,   2.46974228e-11,   2.23727274e-11,\n",
        "         2.02753966e-11,   1.83790574e-11,   1.66608064e-11,\n",
        "         1.51006998e-11,   1.36813278e-11,   1.23874555e-11,\n",
        "         1.12057203e-11,   1.01243747e-11,   9.13306923e-12,\n",
        "         8.22266624e-12,   7.38508191e-12,   6.61315036e-12,\n",
        "         5.90050735e-12,   5.24149018e-12,   4.63105116e-12,\n",
        "         4.06468310e-12,   3.53835460e-12,   3.04845389e-12,\n",
        "         2.59174005e-12,   2.16530035e-12,   1.76651317e-12,\n",
        "         1.39301541e-12,   1.04267396e-12,   7.13560699e-13,\n",
        "         4.16647327e-13,   2.00568620e-13,   6.50272294e-14,\n",
        "         4.45166418e-15,   0.00000000e+00,   0.00000000e+00,\n",
        "         0.00000000e+00,   0.00000000e+00,   0.00000000e+00,\n",
        "         0.00000000e+00,   0.00000000e+00,   0.00000000e+00,\n",
        "         0.00000000e+00,   0.00000000e+00,   0.00000000e+00,\n",
        "         0.00000000e+00,   0.00000000e+00,   0.00000000e+00,\n",
        "         0.00000000e+00,   0.00000000e+00,   0.00000000e+00,\n",
        "         0.00000000e+00,   0.00000000e+00,   0.00000000e+00,\n",
        "         0.00000000e+00,   0.00000000e+00,   0.00000000e+00,\n",
        "         0.00000000e+00,   0.00000000e+00,   0.00000000e+00,\n",
        "         0.00000000e+00,   0.00000000e+00,   0.00000000e+00,\n",
        "         0.00000000e+00,   0.00000000e+00,   0.00000000e+00,\n",
        "         0.00000000e+00,   0.00000000e+00,   0.00000000e+00,\n",
        "         0.00000000e+00])"
       ]
      }
     ],
     "prompt_number": 66
    },
    {
     "cell_type": "code",
     "collapsed": false,
     "input": [
      "tGrid = linspace(1.,5.,20)\n",
      "eGrid = logspace(1,3,100)\n",
      "for t in tGrid:\n",
      "    \n",
      "    res = []\n",
      "    for e in eGrid:\n",
      "        \n",
      "        res.append(f(e,t,cos(1./Gamma)))\n",
      "        \n",
      "    loglog(eGrid,res)\n",
      "#legend(tGrid)\n",
      "    "
     ],
     "language": "python",
     "metadata": {},
     "outputs": [
      {
       "metadata": {},
       "output_type": "display_data",
       "png": "[encoded data removed]",
       "text": [
        "<matplotlib.figure.Figure at 0x10a2fb650>"
       ]
      }
     ],
     "prompt_number": 85
    },
    {
     "cell_type": "code",
     "collapsed": false,
     "input": [
      "tint = r0/(2*Gamma**2*c)- deltaR/c\n",
      "print tint"
     ],
     "language": "python",
     "metadata": {},
     "outputs": [
      {
       "output_type": "stream",
       "stream": "stdout",
       "text": [
        "-0.5\n"
       ]
      }
     ],
     "prompt_number": 32
    },
    {
     "cell_type": "code",
     "collapsed": false,
     "input": [
      "tz0 = r0/(2*Gamma**2*c)\n",
      "print tz0"
     ],
     "language": "python",
     "metadata": {},
     "outputs": [
      {
       "output_type": "stream",
       "stream": "stdout",
       "text": [
        "0.5\n"
       ]
      }
     ],
     "prompt_number": 33
    },
    {
     "cell_type": "code",
     "collapsed": false,
     "input": [
      "from spectralTools.scatReader import scatReader\n",
      "from glob import glob"
     ],
     "language": "python",
     "metadata": {},
     "outputs": [],
     "prompt_number": 9
    },
    {
     "cell_type": "code",
     "collapsed": false,
     "input": [
      "scat = scatReader(\"test_scat.fit\")"
     ],
     "language": "python",
     "metadata": {},
     "outputs": [],
     "prompt_number": 11
    },
    {
     "cell_type": "code",
     "collapsed": false,
     "input": [
      "res2=[]\n",
      "for e in logspace(1,log10(300),30):\n",
      "\n",
      "    res2.append(map(lambda t: scat.SpecificEnergyFlux(t,e), scat.meanTbins))"
     ],
     "language": "python",
     "metadata": {},
     "outputs": [],
     "prompt_number": 47
    },
    {
     "cell_type": "code",
     "collapsed": false,
     "input": [
      "res2=array(res2)\n",
      "matshow(res2)"
     ],
     "language": "python",
     "metadata": {},
     "outputs": [
      {
       "metadata": {},
       "output_type": "pyout",
       "prompt_number": 48,
       "text": [
        "<matplotlib.image.AxesImage at 0x10c351cd0>"
       ]
      },
      {
       "metadata": {},
       "output_type": "display_data",
       "png": "[encoded data removed]",
       "text": [
        "<matplotlib.figure.Figure at 0x10c3101d0>"
       ]
      }
     ],
     "prompt_number": 48
    },
    {
     "cell_type": "code",
     "collapsed": false,
     "input": [
      "for x in res2:\n",
      "    \n",
      "    plot( scat.meanTbins,x,'.')\n",
      "    "
     ],
     "language": "python",
     "metadata": {},
     "outputs": [
      {
       "metadata": {},
       "output_type": "display_data",
       "png": "[encoded data removed]",
       "text": [
        "<matplotlib.figure.Figure at 0x10b4915d0>"
       ]
      }
     ],
     "prompt_number": 25
    },
    {
     "cell_type": "code",
     "collapsed": false,
     "input": [
      "from astropy.table import Table\n",
      "\n",
      "def MakeFluxMap(scat,eRange=[8.,40000.],numEbins=10):\n",
      "    \n",
      "    tb = scat.meanTbins\n",
      "    eMap = []\n",
      "    for e in logspace(log10(eRange[0]),log10(eRange[0]),numEbins):\n",
      "    \n",
      "        fluxLC = map(lambda t: scat.SpecificEnergyFlux(t,e), tb)\n",
      "    \n",
      "        eMap.append(fluxLC)\n",
      "        \n",
      "    eMap = array(eMap)\n",
      "\n",
      "#    tab = Table()\n",
      "        \n",
      "    return eMap\n",
      "    \n",
      "    \n",
      "        \n",
      "        \n",
      "        \n",
      "    \n",
      "    \n",
      "    \n",
      "    \n",
      "    "
     ],
     "language": "python",
     "metadata": {},
     "outputs": [],
     "prompt_number": 4
    },
    {
     "cell_type": "code",
     "collapsed": false,
     "input": [
      "MakeFluxMap(scat)[0]"
     ],
     "language": "python",
     "metadata": {},
     "outputs": [
      {
       "metadata": {},
       "output_type": "pyout",
       "prompt_number": 5,
       "text": [
        "array([  1.67843050e-10,   2.72705154e-10,   9.29876209e-10,\n",
        "         1.81357523e-09,   3.12077238e-09,   4.78462162e-09,\n",
        "         4.23255581e-09,   4.42315642e-09,   6.60659736e-09])"
       ]
      }
     ],
     "prompt_number": 5
    },
    {
     "cell_type": "code",
     "collapsed": false,
     "input": [
      "from mnfit.mnPulseFit.models.physModel_glue import physPulse"
     ],
     "language": "python",
     "metadata": {},
     "outputs": [
      {
       "ename": "ImportError",
       "evalue": "dlopen(/Users/jburgess/Research/mnfit/mnPulseFit/models/physModel_glue.so, 2): Library not loaded: libphysPulse.so\n  Referenced from: /Users/jburgess/Research/mnfit/mnPulseFit/models/physModel_glue.so\n  Reason: image not found",
       "output_type": "pyerr",
       "traceback": [
        "\u001b[0;31m---------------------------------------------------------------------------\u001b[0m\n\u001b[0;31mImportError\u001b[0m                               Traceback (most recent call last)",
        "\u001b[0;32m<ipython-input-44-94811759c4e5>\u001b[0m in \u001b[0;36m<module>\u001b[0;34m()\u001b[0m\n\u001b[0;32m----> 1\u001b[0;31m \u001b[0;32mfrom\u001b[0m \u001b[0mmnfit\u001b[0m\u001b[0;34m.\u001b[0m\u001b[0mmnPulseFit\u001b[0m\u001b[0;34m.\u001b[0m\u001b[0mmodels\u001b[0m\u001b[0;34m.\u001b[0m\u001b[0mphysModel_glue\u001b[0m \u001b[0;32mimport\u001b[0m \u001b[0mphysPulse\u001b[0m\u001b[0;34m\u001b[0m\u001b[0m\n\u001b[0m",
        "\u001b[0;31mImportError\u001b[0m: dlopen(/Users/jburgess/Research/mnfit/mnPulseFit/models/physModel_glue.so, 2): Library not loaded: libphysPulse.so\n  Referenced from: /Users/jburgess/Research/mnfit/mnPulseFit/models/physModel_glue.so\n  Reason: image not found"
       ]
      }
     ],
     "prompt_number": 44
    },
    {
     "cell_type": "code",
     "collapsed": false,
     "input": [],
     "language": "python",
     "metadata": {},
     "outputs": []
    }
   ],
   "metadata": {}
  }
 ]
}