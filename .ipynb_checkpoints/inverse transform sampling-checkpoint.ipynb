{
 "metadata": {
  "name": ""
 },
 "nbformat": 3,
 "nbformat_minor": 0,
 "worksheets": [
  {
   "cells": [
    {
     "cell_type": "code",
     "collapsed": false,
     "input": [
      "def pl(x):\n",
      "    N=1.\n",
      "    indx=-2.\n",
      "    return N*x**(indx)\n",
      "    "
     ],
     "language": "python",
     "metadata": {},
     "outputs": [],
     "prompt_number": 11
    },
    {
     "cell_type": "code",
     "collapsed": false,
     "input": [
      "umax = 100.\n",
      "umin = 10.\n",
      "N=1.\n",
      "indx=-2."
     ],
     "language": "python",
     "metadata": {},
     "outputs": [],
     "prompt_number": 3
    },
    {
     "cell_type": "code",
     "collapsed": false,
     "input": [
      "range=[pl(umin,N,indx),pl(umax,N,indx)]"
     ],
     "language": "python",
     "metadata": {},
     "outputs": [],
     "prompt_number": 6
    },
    {
     "cell_type": "code",
     "collapsed": false,
     "input": [
      "from scipy.integrate import quad\n",
      "from scipy import interpolate"
     ],
     "language": "python",
     "metadata": {},
     "outputs": [],
     "prompt_number": 19
    },
    {
     "cell_type": "code",
     "collapsed": false,
     "input": [
      "def cdf(x,f):\n",
      "    quad(f,xmin,x)"
     ],
     "language": "python",
     "metadata": {},
     "outputs": [],
     "prompt_number": 20
    },
    {
     "cell_type": "code",
     "collapsed": false,
     "input": [
      "quad?"
     ],
     "language": "python",
     "metadata": {},
     "outputs": [],
     "prompt_number": 21
    },
    {
     "cell_type": "code",
     "collapsed": false,
     "input": [
      "t=linspace(10.,100.,100)\n",
      "cdf=[]\n",
      "for x in t:\n",
      "    cdf.append(quad(pl,10.,x)[0])\n",
      "    \n",
      "inv_cdf = interpolate.interp1d(cdf,t)"
     ],
     "language": "python",
     "metadata": {},
     "outputs": [],
     "prompt_number": 32
    },
    {
     "cell_type": "code",
     "collapsed": false,
     "input": [
      "x=linspace(min(cdf),max(cdf),100)\n",
      "plot(x,inv_cdf(x))"
     ],
     "language": "python",
     "metadata": {},
     "outputs": [
      {
       "metadata": {},
       "output_type": "pyout",
       "prompt_number": 38,
       "text": [
        "[<matplotlib.lines.Line2D at 0x10de87390>]"
       ]
      },
      {
       "metadata": {},
       "output_type": "display_data",
       "png": "[encoded data removed]",
       "text": [
        "<matplotlib.figure.Figure at 0x10dd5b410>"
       ]
      }
     ],
     "prompt_number": 38
    },
    {
     "cell_type": "code",
     "collapsed": false,
     "input": [
      "plot(cdf,t)"
     ],
     "language": "python",
     "metadata": {},
     "outputs": [
      {
       "metadata": {},
       "output_type": "pyout",
       "prompt_number": 36,
       "text": [
        "[<matplotlib.lines.Line2D at 0x10dd4f550>]"
       ]
      },
      {
       "metadata": {},
       "output_type": "display_data",
       "png": "[encoded data removed]",
       "text": [
        "<matplotlib.figure.Figure at 0x10dd1ea10>"
       ]
      }
     ],
     "prompt_number": 36
    },
    {
     "cell_type": "code",
     "collapsed": false,
     "input": [
      "interpolate.interp1d?"
     ],
     "language": "python",
     "metadata": {},
     "outputs": [],
     "prompt_number": 31
    },
    {
     "cell_type": "code",
     "collapsed": false,
     "input": [
      "range"
     ],
     "language": "python",
     "metadata": {},
     "outputs": [
      {
       "metadata": {},
       "output_type": "pyout",
       "prompt_number": 37,
       "text": [
        "[0.01, 0.0001]"
       ]
      }
     ],
     "prompt_number": 37
    },
    {
     "cell_type": "code",
     "collapsed": false,
     "input": [],
     "language": "python",
     "metadata": {},
     "outputs": [],
     "prompt_number": 112
    },
    {
     "cell_type": "code",
     "collapsed": false,
     "input": [
      "u = []\n",
      "for i in xrange(100000):\n",
      "    u.append(uniform(minC,maxC))"
     ],
     "language": "python",
     "metadata": {},
     "outputs": [],
     "prompt_number": 81
    },
    {
     "cell_type": "code",
     "collapsed": false,
     "input": [
      "hist(inv_cdf(u),bins=50,histtype='step')\n",
      "xscale('log')\n",
      "yscale('log')\n",
      "plot(t,3.5E4*Band(t,1.,500.,-1.,-4.5))"
     ],
     "language": "python",
     "metadata": {},
     "outputs": [
      {
       "metadata": {},
       "output_type": "pyout",
       "prompt_number": 88,
       "text": [
        "[<matplotlib.lines.Line2D at 0x11154b0d0>]"
       ]
      },
      {
       "metadata": {},
       "output_type": "display_data",
       "png": "[encoded data removed]",
       "text": [
        "<matplotlib.figure.Figure at 0x1113bac10>"
       ]
      }
     ],
     "prompt_number": 88
    },
    {
     "cell_type": "code",
     "collapsed": false,
     "input": [
      "from models import BandSingle, Band"
     ],
     "language": "python",
     "metadata": {},
     "outputs": [],
     "prompt_number": 65
    },
    {
     "cell_type": "code",
     "collapsed": false,
     "input": [],
     "language": "python",
     "metadata": {},
     "outputs": [],
     "prompt_number": 77
    },
    {
     "cell_type": "code",
     "collapsed": false,
     "input": [
      "def f(x):\n",
      "    \n",
      "    return BandSingle(x,1.,500.,-1.,-4.5)"
     ],
     "language": "python",
     "metadata": {},
     "outputs": [],
     "prompt_number": 76
    },
    {
     "cell_type": "code",
     "collapsed": false,
     "input": [
      "hist(u)"
     ],
     "language": "python",
     "metadata": {},
     "outputs": [
      {
       "metadata": {},
       "output_type": "pyout",
       "prompt_number": 90,
       "text": [
        "(array([ 10092.,   9897.,   9915.,   9900.,   9848.,  10049.,  10099.,\n",
        "        10107.,  10110.,   9983.]),\n",
        " array([  3.13415821e-03,   3.35636803e+01,   6.71242263e+01,\n",
        "         1.00684772e+02,   1.34245319e+02,   1.67805865e+02,\n",
        "         2.01366411e+02,   2.34926957e+02,   2.68487503e+02,\n",
        "         3.02048049e+02,   3.35608595e+02]),\n",
        " <a list of 10 Patch objects>)"
       ]
      },
      {
       "metadata": {},
       "output_type": "display_data",
       "png": "[encoded data removed]",
       "text": [
        "<matplotlib.figure.Figure at 0x11166ef50>"
       ]
      }
     ],
     "prompt_number": 90
    },
    {
     "cell_type": "code",
     "collapsed": false,
     "input": [
      "from numba import autojit"
     ],
     "language": "python",
     "metadata": {},
     "outputs": [],
     "prompt_number": 138
    },
    {
     "cell_type": "code",
     "collapsed": false,
     "input": [
      "from numba.random import uniform"
     ],
     "language": "python",
     "metadata": {},
     "outputs": [],
     "prompt_number": 126
    },
    {
     "cell_type": "code",
     "collapsed": false,
     "input": [
      "def pl(x):\n",
      "    \n",
      "    return 1.*x**(-2.)\n",
      "\n",
      "def Sampler(func,fMax):\n",
      "    xMin = 10\n",
      "    xMax=5000\n",
      "    flag = True\n",
      "    while flag:\n",
      "        energyGuess = uniform(xMin,xMax-xMin)\n",
      "        if  uniform(0,fMax) <= func(energyGuess):\n",
      "            flag = False\n",
      "        \n",
      "    return energyGuess\n"
     ],
     "language": "python",
     "metadata": {},
     "outputs": [],
     "prompt_number": 127
    },
    {
     "cell_type": "code",
     "collapsed": false,
     "input": [
      "%timeit Sampler(pl,pl(10.))"
     ],
     "language": "python",
     "metadata": {},
     "outputs": [
      {
       "output_type": "stream",
       "stream": "stdout",
       "text": [
        "1000 loops, best of 3: 1.41 ms per loop\n"
       ]
      }
     ],
     "prompt_number": 150
    },
    {
     "cell_type": "code",
     "collapsed": false,
     "input": [
      "def SampInv(f):\n",
      "    t=linspace(10.,5000.,200)\n",
      "    cdf=[]\n",
      "    for x in t:\n",
      "        cdf.append(quad(pl,10.,x)[0])\n",
      "\n",
      "    minC = min(cdf)\n",
      "    maxC = max(cdf)\n",
      "    inv_cdf = interpolate.interp1d(cdf,t)\n",
      "    r = uniform(minC,maxC)\n",
      "    return inv_cdf(r)"
     ],
     "language": "python",
     "metadata": {},
     "outputs": [],
     "prompt_number": 148
    },
    {
     "cell_type": "code",
     "collapsed": false,
     "input": [
      "%timeit SampInv(pl2)"
     ],
     "language": "python",
     "metadata": {},
     "outputs": [
      {
       "output_type": "stream",
       "stream": "stdout",
       "text": [
        "100 loops, best of 3: 13.3 ms per loop\n"
       ]
      }
     ],
     "prompt_number": 149
    },
    {
     "cell_type": "code",
     "collapsed": false,
     "input": [
      "%timeit pl(100.)"
     ],
     "language": "python",
     "metadata": {},
     "outputs": [
      {
       "output_type": "stream",
       "stream": "stdout",
       "text": [
        "10000000 loops, best of 3: 184 ns per loop\n"
       ]
      }
     ],
     "prompt_number": 147
    },
    {
     "cell_type": "code",
     "collapsed": false,
     "input": [
      "def pInv(x):\n",
      "    xMin = 10.\n",
      "    xMax = 5000.\n",
      "    indx = -2.2\n",
      "    \n",
      "    val = ((xMax**(indx+1)-xMin**(indx+1))*x + xMin**(indx+1))**(1./(indx+1))\n",
      "    return val"
     ],
     "language": "python",
     "metadata": {},
     "outputs": [],
     "prompt_number": 179
    },
    {
     "cell_type": "code",
     "collapsed": false,
     "input": [
      "samp = []\n",
      "\n",
      "for i in xrange(100000):\n",
      "    x = uniform(0.,1.)\n",
      "    samp.append(pInv(x))"
     ],
     "language": "python",
     "metadata": {},
     "outputs": [],
     "prompt_number": 184
    },
    {
     "cell_type": "code",
     "collapsed": false,
     "input": [
      "evts,bins,_ = hist(samp,bins=128,normed=False)\n",
      "meanBins = []\n",
      "for i in xrange(len(bins[:-1])):\n",
      "    meanBins.append( mean([bins[i],bins[i+1]])  )\n",
      "meanBins = array(meanBins)"
     ],
     "language": "python",
     "metadata": {},
     "outputs": [
      {
       "metadata": {},
       "output_type": "display_data",
       "png": "[encoded data removed]",
       "text": [
        "<matplotlib.figure.Figure at 0x112ab0250>"
       ]
      }
     ],
     "prompt_number": 185
    },
    {
     "cell_type": "code",
     "collapsed": false,
     "input": [
      "from spectralTools.funcFitter.funcFitter import funcFitter\n",
      "fit=funcFitter()\n",
      "fit.SelectFunction(\"PowerLaw\")\n",
      "fit.SetXData(meanBins)\n",
      "\n",
      "fit.SetYData(evts)\n",
      "\n",
      "fit.iVals = [.5E3,-2.2,0,300]\n",
      "fit.fixed=[0,0,1,1]\n",
      "fit.Fit(showLog=True,showGuess=True)"
     ],
     "language": "python",
     "metadata": {},
     "outputs": [
      {
       "output_type": "stream",
       "stream": "stdout",
       "text": [
        "Start Up\n",
        "The parameters of this function are:\n",
        "norm\n",
        "index\n",
        "t0\n",
        "pivot\n",
        "Fitting with PowerLaw\n",
        "\n",
        "Fit results: \n",
        "norm: 121.104763008 +/- 0.0372824127453\n",
        "index: -2.81352468953 +/- 0.000132560950849\n",
        "t0: 0.0 +/- 0.0\n",
        "pivot: 300.0 +/- 0.0\n"
       ]
      },
      {
       "metadata": {},
       "output_type": "display_data",
       "png": "[encoded data removed]",
       "text": [
        "<matplotlib.figure.Figure at 0x112b69950>"
       ]
      }
     ],
     "prompt_number": 188
    },
    {
     "cell_type": "code",
     "collapsed": false,
     "input": [
      "from rsp import rsp"
     ],
     "language": "python",
     "metadata": {},
     "outputs": [],
     "prompt_number": 1
    },
    {
     "cell_type": "code",
     "collapsed": false,
     "input": [
      "r = rsp(\"130427A/glg_cspec_n3_bn130427324_v00.rsp2\")"
     ],
     "language": "python",
     "metadata": {},
     "outputs": [
      {
       "output_type": "stream",
       "stream": "stdout",
       "text": [
        "Read RSP file with angle: 90.700000\n"
       ]
      }
     ],
     "prompt_number": 2
    },
    {
     "cell_type": "code",
     "collapsed": false,
     "input": [
      "r.drm"
     ],
     "language": "python",
     "metadata": {},
     "outputs": [
      {
       "metadata": {},
       "output_type": "pyout",
       "prompt_number": 3,
       "text": [
        "matrix([[ 0.        ,  0.        ,  0.        , ...,  0.        ,\n",
        "          0.        ,  0.        ],\n",
        "        [ 0.        ,  0.        ,  0.        , ...,  0.        ,\n",
        "          0.        ,  0.        ],\n",
        "        [ 0.        ,  0.        ,  0.        , ...,  0.        ,\n",
        "          0.        ,  0.        ],\n",
        "        ..., \n",
        "        [ 0.03029078,  0.035404  ,  0.03472297, ...,  0.09757151,\n",
        "          0.09639315,  1.53640378],\n",
        "        [ 0.03141508,  0.03676087,  0.03605397, ...,  0.10095549,\n",
        "          0.09998588,  1.63320708],\n",
        "        [ 0.        ,  0.        ,  0.        , ...,  0.        ,\n",
        "          0.        ,  0.        ]])"
       ]
      }
     ],
     "prompt_number": 3
    },
    {
     "cell_type": "code",
     "collapsed": false,
     "input": [],
     "language": "python",
     "metadata": {},
     "outputs": []
    }
   ],
   "metadata": {}
  }
 ]
}