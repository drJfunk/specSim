{
 "metadata": {
  "name": ""
 },
 "nbformat": 3,
 "nbformat_minor": 0,
 "worksheets": [
  {
   "cells": [
    {
     "cell_type": "code",
     "collapsed": false,
     "input": [
      "from lightCurveGen import lightCurveGen\n",
      "from pulse import KRL"
     ],
     "language": "python",
     "metadata": {},
     "outputs": [],
     "prompt_number": 22
    },
    {
     "cell_type": "code",
     "collapsed": false,
     "input": [
      "pulseStart = 0.0\n",
      "tStart = -5.0\n",
      "tStop = 20.0\n",
      "pulseStop = 10.\n",
      "dt = .01"
     ],
     "language": "python",
     "metadata": {},
     "outputs": [],
     "prompt_number": 19
    },
    {
     "cell_type": "code",
     "collapsed": false,
     "input": [
      "time = arange(pulseStart,pulseStop,dt)\n"
     ],
     "language": "python",
     "metadata": {},
     "outputs": [],
     "prompt_number": 20
    },
    {
     "cell_type": "code",
     "collapsed": false,
     "input": [
      "\n",
      "def pl2(x):\n",
      "    \n",
      "    return 1.E3*x**(-1.)\n",
      "\n",
      "A=map(lambda t: KRL(t,.5,.1, 2.,1.,.3), time)\n",
      "Ep=map(pl2,time+1.)\n",
      "\n",
      "pe = zip(A,Ep,[-1.]*len(time),[-2.2]*len(time))\n",
      "from models import Band"
     ],
     "language": "python",
     "metadata": {},
     "outputs": [],
     "prompt_number": 23
    },
    {
     "cell_type": "code",
     "collapsed": false,
     "input": [
      "lcg=lightCurveGen(\"glg_cspec_b1_bn131216081_v01.rsp\",dt,pulseStart,'b1.fit')\n",
      "lcg.ConstructBackground(tStart,tStop,20.,-1.3)\n",
      "lcg.ConstructSignal(pulseStop,Band,pe,intType=\"qd\")\n",
      "lcg.FormatEvtsChans()\n",
      "lcg.MakeTTE()\n",
      "del lcg"
     ],
     "language": "python",
     "metadata": {},
     "outputs": [],
     "prompt_number": 13
    },
    {
     "cell_type": "code",
     "collapsed": false,
     "input": [
      "lcg=lightCurveGen(\"glg_cspec_n6_bn131216081_v01.rsp\",dt,pulseStart,'n6.fit')\n",
      "lcg.ConstructBackground(tStart,tStop,20.,-1.3)\n",
      "lcg.ConstructSignal(pulseStop,Band,pe,intType=\"qd\")\n",
      "lcg.FormatEvtsChans()\n",
      "lcg.MakeTTE()\n",
      "del lcg"
     ],
     "language": "python",
     "metadata": {},
     "outputs": [],
     "prompt_number": 6
    },
    {
     "cell_type": "code",
     "collapsed": false,
     "input": [
      "lcg=lightCurveGen(\"glg_cspec_n9_bn131216081_v01.rsp\",dt,pulseStart,'n9.fit')\n",
      "lcg.ConstructBackground(tStart,tStop,20.,-1.3)\n",
      "lcg.ConstructSignal(pulseStop,Band,pe,intType=\"qd\")\n",
      "lcg.FormatEvtsChans()\n",
      "lcg.MakeTTE()\n",
      "del lcg"
     ],
     "language": "python",
     "metadata": {},
     "outputs": [],
     "prompt_number": 14
    },
    {
     "cell_type": "code",
     "collapsed": false,
     "input": [
      "from astroML.density_estimation import histtools, bayesian_blocks\n",
      "from astroML.plotting import hist as mlHist\n",
      "import astropy.io.fits as fits "
     ],
     "language": "python",
     "metadata": {},
     "outputs": [],
     "prompt_number": 19
    },
    {
     "cell_type": "code",
     "collapsed": false,
     "input": [
      "f=fits.open(\"n6.fit\")\n",
      "data = f[2].data['TIME']"
     ],
     "language": "python",
     "metadata": {},
     "outputs": [],
     "prompt_number": 24
    },
    {
     "cell_type": "code",
     "collapsed": false,
     "input": [
      "mlHist(data,bins='blocks')"
     ],
     "language": "python",
     "metadata": {},
     "outputs": [
      {
       "metadata": {},
       "output_type": "pyout",
       "prompt_number": 33,
       "text": [
        "(array([ 10518.,    488.,    851.,   6029.,   3400.,   2139.,   2977.,\n",
        "         2530.,   3818.,   3076.,   6853.,   8587.,  20873.]),\n",
        " array([ -4.99962118e+00,   1.07125261e-02,   1.26763480e-01,\n",
        "         2.46310304e-01,   8.20559522e-01,   1.23032575e+00,\n",
        "         1.53353111e+00,   2.04095045e+00,   2.56710191e+00,\n",
        "         3.52409764e+00,   4.38915150e+00,   6.71055129e+00,\n",
        "         1.00273288e+01,   1.99993153e+01]),\n",
        " <a list of 13 Patch objects>)"
       ]
      },
      {
       "metadata": {},
       "output_type": "display_data",
       "png": "[encoded data removed]",
       "text": [
        "<matplotlib.figure.Figure at 0x10ab92bd0>"
       ]
      }
     ],
     "prompt_number": 33
    },
    {
     "cell_type": "code",
     "collapsed": false,
     "input": [
      "mlHist(data,bins=a)"
     ],
     "language": "python",
     "metadata": {},
     "outputs": [
      {
       "metadata": {},
       "output_type": "pyout",
       "prompt_number": 36,
       "text": [
        "(array([ 10518.,    488.,    851.,   6029.,   3400.,   2139.,   2977.,\n",
        "         2530.,   3818.,   3076.,   6853.,   8587.,  20872.]),\n",
        " array([ -4.99962118e+00,   1.07125261e-02,   1.26763480e-01,\n",
        "         2.46310304e-01,   8.20559522e-01,   1.23032575e+00,\n",
        "         1.53353111e+00,   2.04095045e+00,   2.56710191e+00,\n",
        "         3.52409764e+00,   4.38915150e+00,   6.71055129e+00,\n",
        "         1.00273288e+01,   1.99993153e+01]),\n",
        " <a list of 13 Patch objects>)"
       ]
      },
      {
       "metadata": {},
       "output_type": "display_data",
       "png": "[encoded data removed]",
       "text": [
        "<matplotlib.figure.Figure at 0x10a7956d0>"
       ]
      }
     ],
     "prompt_number": 36
    },
    {
     "cell_type": "code",
     "collapsed": false,
     "input": [
      "a=array([ -4.99962118e+00,   1.07125261e-02,   1.26763480e-01,\n",
      "         2.46310304e-01,   8.20559522e-01,   1.23032575e+00,\n",
      "         1.53353111e+00,   2.04095045e+00,   2.56710191e+00,\n",
      "         3.52409764e+00,   4.38915150e+00,   6.71055129e+00,\n",
      "         1.00273288e+01,   1.99993153e+01])"
     ],
     "language": "python",
     "metadata": {},
     "outputs": [],
     "prompt_number": 35
    },
    {
     "cell_type": "code",
     "collapsed": false,
     "input": [
      "ti=open('b1.ti','w')"
     ],
     "language": "python",
     "metadata": {},
     "outputs": [],
     "prompt_number": 37
    },
    {
     "cell_type": "code",
     "collapsed": false,
     "input": [
      "ti.write(str(len(a))+'\\n')"
     ],
     "language": "python",
     "metadata": {},
     "outputs": [],
     "prompt_number": 38
    },
    {
     "cell_type": "code",
     "collapsed": false,
     "input": [
      "for x in a:\n",
      "    ti.write(str(x)+'\\n')"
     ],
     "language": "python",
     "metadata": {},
     "outputs": [],
     "prompt_number": 39
    },
    {
     "cell_type": "code",
     "collapsed": false,
     "input": [
      "ti.close()"
     ],
     "language": "python",
     "metadata": {},
     "outputs": [],
     "prompt_number": 40
    },
    {
     "cell_type": "code",
     "collapsed": false,
     "input": [
      "from spectralTools.scatReader import scatReader\n",
      "from spectralTools.funcFitter.funcFitter import funcFitter"
     ],
     "language": "python",
     "metadata": {},
     "outputs": [],
     "prompt_number": 10
    },
    {
     "cell_type": "code",
     "collapsed": false,
     "input": [
      "sc=scatReader(\"scat.fit\")"
     ],
     "language": "python",
     "metadata": {},
     "outputs": [],
     "prompt_number": 57
    },
    {
     "cell_type": "code",
     "collapsed": false,
     "input": [
      "ep =sc.GetParamArray(\"Band's GRB, Epeak\",\"Epeak\")"
     ],
     "language": "python",
     "metadata": {},
     "outputs": [],
     "prompt_number": 58
    },
    {
     "cell_type": "code",
     "collapsed": false,
     "input": [
      "epErr=ep[:,1]\n",
      "ep=ep[:,0]"
     ],
     "language": "python",
     "metadata": {},
     "outputs": [],
     "prompt_number": 59
    },
    {
     "cell_type": "code",
     "collapsed": false,
     "input": [
      "ep"
     ],
     "language": "python",
     "metadata": {},
     "outputs": [
      {
       "metadata": {},
       "output_type": "pyout",
       "prompt_number": 92,
       "text": [
        "array([ 753.96948242,  603.67596436,  516.35046387,  290.21392822,\n",
        "        319.83364868,  213.84953308,  240.44316101,  241.6053772 ,\n",
        "        161.41279602,  223.15705872,  107.51608276,  148.03100586,\n",
        "        127.57737732,   74.59638214,   41.27267075,  115.51403046,\n",
        "         89.1256485 ,  500.        ,   61.16893005,   41.24308014])"
       ]
      }
     ],
     "prompt_number": 92
    },
    {
     "cell_type": "code",
     "collapsed": false,
     "input": [
      "#errorbar(sc.meanTbins,ep,yerr=epErr)\n",
      "loglog(time,Ep,'.')\n"
     ],
     "language": "python",
     "metadata": {},
     "outputs": [
      {
       "metadata": {},
       "output_type": "pyout",
       "prompt_number": 18,
       "text": [
        "[<matplotlib.lines.Line2D at 0x1117dcb90>]"
       ]
      },
      {
       "metadata": {},
       "output_type": "display_data",
       "png": "[encoded data removed]",
       "text": [
        "<matplotlib.figure.Figure at 0x11181bfd0>"
       ]
      }
     ],
     "prompt_number": 18
    },
    {
     "cell_type": "code",
     "collapsed": false,
     "input": [
      "fit=funcFitter()"
     ],
     "language": "python",
     "metadata": {},
     "outputs": [
      {
       "output_type": "stream",
       "stream": "stdout",
       "text": [
        "Start Up\n"
       ]
      }
     ],
     "prompt_number": 14
    },
    {
     "cell_type": "code",
     "collapsed": false,
     "input": [
      "fit.SelectFunction(\"PowerLaw\")"
     ],
     "language": "python",
     "metadata": {},
     "outputs": [
      {
       "output_type": "stream",
       "stream": "stdout",
       "text": [
        "The parameters of this function are:\n",
        "norm\n",
        "index\n",
        "t0\n",
        "pivot\n"
       ]
      }
     ],
     "prompt_number": 15
    },
    {
     "cell_type": "code",
     "collapsed": false,
     "input": [
      "fit.SetXData(array(map(lambda x:mean(x+1),sc.tBins)))\n",
      "fit.SetYData(ep)\n",
      "fit.SetYErr(epErr)\n",
      "fit.iVals=[100.,-1.5,0.0,5.]\n",
      "fit.fixed=[0,0,1,1]\n",
      "fit.Fit(showLog=True,showGuess=True)"
     ],
     "language": "python",
     "metadata": {},
     "outputs": [
      {
       "output_type": "stream",
       "stream": "stdout",
       "text": [
        "Fitting with PowerLaw\n",
        "\n",
        "Fit results: "
       ]
      },
      {
       "output_type": "stream",
       "stream": "stdout",
       "text": [
        "\n",
        "norm: 169.879790744 +/- 14.4802055893\n",
        "index: -1.17487356163 +/- 0.0865750097357\n",
        "t0: 0.0 +/- 0.0\n",
        "pivot: 5.0 +/- 0.0\n"
       ]
      },
      {
       "metadata": {},
       "output_type": "display_data",
       "png": "[encoded data removed]",
       "text": [
        "<matplotlib.figure.Figure at 0x10511a5d0>"
       ]
      }
     ],
     "prompt_number": 60
    },
    {
     "cell_type": "code",
     "collapsed": false,
     "input": [
      "map(lambda x:mean(x+1)[:],sc.tBins)"
     ],
     "language": "python",
     "metadata": {},
     "outputs": [
      {
       "ename": "IndexError",
       "evalue": "invalid index to scalar variable.",
       "output_type": "pyerr",
       "traceback": [
        "\u001b[0;31m---------------------------------------------------------------------------\u001b[0m\n\u001b[0;31mIndexError\u001b[0m                                Traceback (most recent call last)",
        "\u001b[0;32m<ipython-input-50-b877af445f1f>\u001b[0m in \u001b[0;36m<module>\u001b[0;34m()\u001b[0m\n\u001b[0;32m----> 1\u001b[0;31m \u001b[0mmap\u001b[0m\u001b[0;34m(\u001b[0m\u001b[0;32mlambda\u001b[0m \u001b[0mx\u001b[0m\u001b[0;34m:\u001b[0m\u001b[0mmean\u001b[0m\u001b[0;34m(\u001b[0m\u001b[0mx\u001b[0m\u001b[0;34m+\u001b[0m\u001b[0;36m1\u001b[0m\u001b[0;34m)\u001b[0m\u001b[0;34m[\u001b[0m\u001b[0;34m:\u001b[0m\u001b[0;34m]\u001b[0m\u001b[0;34m,\u001b[0m\u001b[0msc\u001b[0m\u001b[0;34m.\u001b[0m\u001b[0mtBins\u001b[0m\u001b[0;34m)\u001b[0m\u001b[0;34m\u001b[0m\u001b[0m\n\u001b[0m",
        "\u001b[0;32m<ipython-input-50-b877af445f1f>\u001b[0m in \u001b[0;36m<lambda>\u001b[0;34m(x)\u001b[0m\n\u001b[0;32m----> 1\u001b[0;31m \u001b[0mmap\u001b[0m\u001b[0;34m(\u001b[0m\u001b[0;32mlambda\u001b[0m \u001b[0mx\u001b[0m\u001b[0;34m:\u001b[0m\u001b[0mmean\u001b[0m\u001b[0;34m(\u001b[0m\u001b[0mx\u001b[0m\u001b[0;34m+\u001b[0m\u001b[0;36m1\u001b[0m\u001b[0;34m)\u001b[0m\u001b[0;34m[\u001b[0m\u001b[0;34m:\u001b[0m\u001b[0;34m]\u001b[0m\u001b[0;34m,\u001b[0m\u001b[0msc\u001b[0m\u001b[0;34m.\u001b[0m\u001b[0mtBins\u001b[0m\u001b[0;34m)\u001b[0m\u001b[0;34m\u001b[0m\u001b[0m\n\u001b[0m",
        "\u001b[0;31mIndexError\u001b[0m: invalid index to scalar variable."
       ]
      },
      {
       "output_type": "stream",
       "stream": "stdout",
       "text": [
        "ERROR: IndexError: invalid index to scalar variable. [IPython.core.interactiveshell]\n"
       ]
      }
     ],
     "prompt_number": 50
    },
    {
     "cell_type": "code",
     "collapsed": false,
     "input": [
      "loglog(time+1,Ep)\n",
      "errorbar(map(lambda x:mean(x+1),sc.tBins),ep,yerr=epErr)"
     ],
     "language": "python",
     "metadata": {},
     "outputs": [
      {
       "metadata": {},
       "output_type": "pyout",
       "prompt_number": 32,
       "text": [
        "<Container object of 3 artists>"
       ]
      },
      {
       "metadata": {},
       "output_type": "display_data",
       "png": "[encoded data removed]",
       "text": [
        "<matplotlib.figure.Figure at 0x108ae2d90>"
       ]
      }
     ],
     "prompt_number": 32
    },
    {
     "cell_type": "code",
     "collapsed": false,
     "input": [
      "from spectralTools.binning.tteBinning import tteBinning"
     ],
     "language": "python",
     "metadata": {},
     "outputs": [],
     "prompt_number": 1
    },
    {
     "cell_type": "code",
     "collapsed": false,
     "input": [
      "t=tteBinning(\"n6.fit\",-3,15)\n",
      "t2=tteBinning(\"b1.fit\",-3.,15.)"
     ],
     "language": "python",
     "metadata": {},
     "outputs": [],
     "prompt_number": 2
    },
    {
     "cell_type": "code",
     "collapsed": false,
     "input": [
      "t+t2"
     ],
     "language": "python",
     "metadata": {},
     "outputs": [],
     "prompt_number": 3
    },
    {
     "cell_type": "code",
     "collapsed": false,
     "input": [
      "t.MakeBlocks(.05)"
     ],
     "language": "python",
     "metadata": {},
     "outputs": [],
     "prompt_number": 4
    },
    {
     "cell_type": "code",
     "collapsed": false,
     "input": [
      "t.bins=array([ -2.99959531,   0.02493037,   0.12077014,   0.23686275,\n",
      "         0.3804632 ,   0.87728174,   1.03373536,   1.28264068,\n",
      "         1.69703968,   2.09734141,   2.73794932,   3.61098403,\n",
      "         4.6192865 ,   6.86850565,   9.93993483,  14.99987127])"
     ],
     "language": "python",
     "metadata": {},
     "outputs": [],
     "prompt_number": 3
    },
    {
     "cell_type": "code",
     "collapsed": false,
     "input": [
      "t.Preview()"
     ],
     "language": "python",
     "metadata": {},
     "outputs": [
      {
       "metadata": {},
       "output_type": "display_data",
       "png": "[encoded data removed]",
       "text": [
        "<matplotlib.figure.Figure at 0x10511a550>"
       ]
      }
     ],
     "prompt_number": 7
    },
    {
     "cell_type": "code",
     "collapsed": false,
     "input": [
      "t.MakeKnuth()"
     ],
     "language": "python",
     "metadata": {},
     "outputs": [
      {
       "output_type": "stream",
       "stream": "stdout",
       "text": [
        "Optimization terminated successfully.\n",
        "         Current function value: -11577.537546\n",
        "         Iterations: 16\n",
        "         Function evaluations: 45\n"
       ]
      }
     ],
     "prompt_number": 6
    },
    {
     "cell_type": "code",
     "collapsed": false,
     "input": [
      "t.MakeTI()"
     ],
     "language": "python",
     "metadata": {},
     "outputs": [],
     "prompt_number": 8
    },
    {
     "cell_type": "code",
     "collapsed": false,
     "input": [
      "import astroML.density_estimation.histtools as stuff"
     ],
     "language": "python",
     "metadata": {},
     "outputs": [],
     "prompt_number": 8
    },
    {
     "cell_type": "code",
     "collapsed": false,
     "input": [
      "stuff.freedman_bin_width"
     ],
     "language": "python",
     "metadata": {},
     "outputs": [],
     "prompt_number": 12
    },
    {
     "cell_type": "code",
     "collapsed": false,
     "input": [],
     "language": "python",
     "metadata": {},
     "outputs": [
      {
       "metadata": {},
       "output_type": "pyout",
       "prompt_number": 31,
       "text": [
        "[0.94860974683150001,\n",
        " 1.2589471208965,\n",
        " 1.5692844949609999,\n",
        " 1.8796218690264999,\n",
        " 2.1899592430900001,\n",
        " 2.5002966171550001,\n",
        " 2.81063399122,\n",
        " 3.1209713652850004,\n",
        " 3.4313087393500004,\n",
        " 3.7416461134150003,\n",
        " 4.0519834874800003,\n",
        " 4.3623208615450002,\n",
        " 4.6726582356100002,\n",
        " 4.9829956096750001,\n",
        " 5.2933329837400001,\n",
        " 5.603670357805,\n",
        " 5.91400773187,\n",
        " 6.2243451059349999,\n",
        " 6.5346824799999998,\n",
        " 6.8450198540649998,\n",
        " 7.1553572281300006,\n",
        " 7.4656946021950006,\n",
        " 7.7760319762600005,\n",
        " 8.08636935032,\n",
        " 8.396706724385,\n",
        " 8.7070440984499999,\n",
        " 9.0173814725149999,\n",
        " 9.3277188465799998,\n",
        " 9.6380562206450016,\n",
        " 9.9483935947100015,\n",
        " 10.258730968775001,\n",
        " 10.569068342840001,\n",
        " 10.879405716885]"
       ]
      }
     ],
     "prompt_number": 31
    },
    {
     "cell_type": "code",
     "collapsed": false,
     "input": [
      "sc.tBins+1"
     ],
     "language": "python",
     "metadata": {},
     "outputs": [
      {
       "metadata": {},
       "output_type": "pyout",
       "prompt_number": 30,
       "text": [
        "array([[  0.79344106,   1.10377843],\n",
        "       [  1.10377843,   1.41411581],\n",
        "       [  1.41411581,   1.72445318],\n",
        "       [  1.72445318,   2.03479056],\n",
        "       [  2.03479056,   2.34512793],\n",
        "       [  2.34512793,   2.6554653 ],\n",
        "       [  2.6554653 ,   2.96580268],\n",
        "       [  2.96580268,   3.27614005],\n",
        "       [  3.27614005,   3.58647743],\n",
        "       [  3.58647743,   3.8968148 ],\n",
        "       [  3.8968148 ,   4.20715217],\n",
        "       [  4.20715217,   4.51748955],\n",
        "       [  4.51748955,   4.82782692],\n",
        "       [  4.82782692,   5.1381643 ],\n",
        "       [  5.1381643 ,   5.44850167],\n",
        "       [  5.44850167,   5.75883904],\n",
        "       [  5.75883904,   6.06917642],\n",
        "       [  6.06917642,   6.37951379],\n",
        "       [  6.37951379,   6.68985117],\n",
        "       [  6.68985117,   7.00018854],\n",
        "       [  7.00018854,   7.31052592],\n",
        "       [  7.31052592,   7.62086329],\n",
        "       [  7.62086329,   7.93120066],\n",
        "       [  7.93120066,   8.24153804],\n",
        "       [  8.24153804,   8.55187541],\n",
        "       [  8.55187541,   8.86221279],\n",
        "       [  8.86221279,   9.17255016],\n",
        "       [  9.17255016,   9.48288753],\n",
        "       [  9.48288753,   9.79322491],\n",
        "       [  9.79322491,  10.10356228],\n",
        "       [ 10.10356228,  10.41389966],\n",
        "       [ 10.41389966,  10.72423703],\n",
        "       [ 10.72423703,  11.0345744 ]])"
       ]
      }
     ],
     "prompt_number": 30
    },
    {
     "cell_type": "code",
     "collapsed": false,
     "input": [],
     "language": "python",
     "metadata": {},
     "outputs": []
    }
   ],
   "metadata": {}
  }
 ]
}