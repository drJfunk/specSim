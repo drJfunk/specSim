{
 "metadata": {
  "name": ""
 },
 "nbformat": 3,
 "nbformat_minor": 0,
 "worksheets": [
  {
   "cells": [
    {
     "cell_type": "code",
     "collapsed": false,
     "input": [
      "from lightCurveGen import lightCurveGen"
     ],
     "language": "python",
     "metadata": {},
     "outputs": [],
     "prompt_number": 1
    },
    {
     "cell_type": "code",
     "collapsed": false,
     "input": [
      "lcg=lightCurveGen(\"glg_cspec_n3_bn131217506_v00.rsp\",.01,0.,'test.fit')"
     ],
     "language": "python",
     "metadata": {},
     "outputs": [],
     "prompt_number": 9
    },
    {
     "cell_type": "code",
     "collapsed": false,
     "input": [
      "lcg.ConstructBackground(-10.,10.,1.E5,-2.)\n",
      "lcg.ConstructSignal()\n",
      "lcg.FormatEvtsChans()"
     ],
     "language": "python",
     "metadata": {},
     "outputs": [],
     "prompt_number": 10
    },
    {
     "cell_type": "code",
     "collapsed": false,
     "input": [
      "lcg.MakeTTE()"
     ],
     "language": "python",
     "metadata": {},
     "outputs": [],
     "prompt_number": 11
    },
    {
     "cell_type": "code",
     "collapsed": false,
     "input": [],
     "language": "python",
     "metadata": {},
     "outputs": [],
     "prompt_number": 13
    },
    {
     "cell_type": "code",
     "collapsed": false,
     "input": [
      "bk[tt]"
     ],
     "language": "python",
     "metadata": {},
     "outputs": [
      {
       "metadata": {},
       "output_type": "pyout",
       "prompt_number": 15,
       "text": [
        "array([-0.73658624, -0.59895409, -0.95373115, -0.52017814, -0.75807742,\n",
        "       -0.15353198, -0.26751687, -0.07421507, -0.20757561, -0.31235362,\n",
        "       -0.45216953, -0.14912566, -0.47285453, -0.43873965, -0.43751152,\n",
        "       -0.04122113, -0.05780008, -0.14883153, -0.44332486, -0.48886201,\n",
        "       -0.27904433, -0.01700831, -0.2585742 ,  0.4303605 ,  0.09274167,\n",
        "        0.39928488,  0.27118678,  0.216239  ,  0.19472026,  0.08734261,\n",
        "        0.34838544,  0.10098762,  0.08829309,  0.27173693,  0.01721133,\n",
        "        0.10304215,  0.69312378,  0.82641703,  0.88871558,  0.98938304,\n",
        "        0.81924643,  0.76570418,  0.7016188 ,  0.65933231,  0.98457574])"
       ]
      }
     ],
     "prompt_number": 15
    },
    {
     "cell_type": "code",
     "collapsed": false,
     "input": [
      "lcg.fileName='test.fit'"
     ],
     "language": "python",
     "metadata": {},
     "outputs": [],
     "prompt_number": 5
    },
    {
     "cell_type": "code",
     "collapsed": false,
     "input": [
      "lcg.MakeTTE()"
     ],
     "language": "python",
     "metadata": {},
     "outputs": [
      {
       "output_type": "stream",
       "stream": "stderr",
       "text": [
        "WARNING:astropy:Overwriting existing file 'test.fit'.\n"
       ]
      },
      {
       "output_type": "stream",
       "stream": "stdout",
       "text": [
        "WARNING: Overwriting existing file 'test.fit'. [astropy.io.fits.file]\n"
       ]
      }
     ],
     "prompt_number": 6
    },
    {
     "cell_type": "code",
     "collapsed": false,
     "input": [
      "'n3_bounds.npy'=='n3_ebounds.npy'"
     ],
     "language": "python",
     "metadata": {},
     "outputs": [
      {
       "metadata": {},
       "output_type": "pyout",
       "prompt_number": 10,
       "text": [
        "False"
       ]
      }
     ],
     "prompt_number": 10
    },
    {
     "cell_type": "code",
     "collapsed": false,
     "input": [
      "hist(lcg.bkChans,bins=128,histtype='step')\n",
      "yscale('log')"
     ],
     "language": "python",
     "metadata": {},
     "outputs": [
      {
       "metadata": {},
       "output_type": "display_data",
       "png": "[encoded data removed]",
       "text": [
        "<matplotlib.figure.Figure at 0x105e94e50>"
       ]
      }
     ],
     "prompt_number": 22
    }
   ],
   "metadata": {}
  }
 ]
}