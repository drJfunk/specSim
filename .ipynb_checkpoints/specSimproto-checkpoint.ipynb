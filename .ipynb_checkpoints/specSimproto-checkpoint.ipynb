{
 "metadata": {
  "name": ""
 },
 "nbformat": 3,
 "nbformat_minor": 0,
 "worksheets": [
  {
   "cells": [
    {
     "cell_type": "code",
     "collapsed": false,
     "input": [
      "from lightCurveGen import lightCurveGen"
     ],
     "language": "python",
     "metadata": {},
     "outputs": [],
     "prompt_number": 1
    },
    {
     "cell_type": "code",
     "collapsed": false,
     "input": [
      "lcg=lightCurveGen(\"glg_cspec_b1_bn131216081_v01.rsp\",.1,5.,'b1.fit')\n",
      "#lcg.ConstructBackground(0.,10.,1.E2,-1.)\n",
      "lcg.ConstructSignal(7.,powerlaw,pe)\n",
      "lcg.FormatEvtsChans()\n",
      "lcg.MakeTTE()\n",
      "del lcg"
     ],
     "language": "python",
     "metadata": {},
     "outputs": [
      {
       "output_type": "stream",
       "stream": "stderr",
       "text": [
        "WARNING:astropy:Overwriting existing file 'b1.fit'.\n"
       ]
      },
      {
       "output_type": "stream",
       "stream": "stdout",
       "text": [
        "WARNING: Overwriting existing file 'b1.fit'. [astropy.io.fits.file]\n"
       ]
      }
     ],
     "prompt_number": 4
    },
    {
     "cell_type": "code",
     "collapsed": false,
     "input": [
      "lcg=lightCurveGen(\"glg_cspec_n6_bn131216081_v01.rsp\",.1,5.,'n6.fit')\n",
      "#lcg.ConstructBackground(0.,10.,1.E2,-1.)\n",
      "lcg.ConstructSignal(7.,powerlaw,pe)\n",
      "lcg.FormatEvtsChans()\n",
      "lcg.MakeTTE()\n"
     ],
     "language": "python",
     "metadata": {},
     "outputs": [
      {
       "output_type": "stream",
       "stream": "stderr",
       "text": [
        "WARNING:astropy:Overwriting existing file 'n6.fit'.\n"
       ]
      },
      {
       "output_type": "stream",
       "stream": "stdout",
       "text": [
        "WARNING: Overwriting existing file 'n6.fit'. [astropy.io.fits.file]\n"
       ]
      }
     ],
     "prompt_number": 5
    },
    {
     "cell_type": "code",
     "collapsed": false,
     "input": [
      "lcg=lightCurveGen(\"glg_cspec_n9_bn131216081_v01.rsp\",.1,5.,'n9.fit')\n",
      "lcg.ConstructBackground(0.,10.,1.E2,-1.)\n",
      "lcg.ConstructSignal(7.,Band,pe,intType=\"qd\")\n",
      "lcg.FormatEvtsChans()\n",
      "lcg.MakeTTE()\n",
      "del lcg"
     ],
     "language": "python",
     "metadata": {},
     "outputs": [
      {
       "output_type": "stream",
       "stream": "stderr",
       "text": [
        "WARNING:astropy:Overwriting existing file 'n9.fit'.\n"
       ]
      },
      {
       "output_type": "stream",
       "stream": "stdout",
       "text": [
        "WARNING: Overwriting existing file 'n9.fit'. [astropy.io.fits.file]\n"
       ]
      }
     ],
     "prompt_number": 5
    },
    {
     "cell_type": "code",
     "collapsed": false,
     "input": [
      "hist([lcg.bkgEvents,lcg.sgnEvents],bins=linspace(0.,10.,101),histtype='step')"
     ],
     "language": "python",
     "metadata": {},
     "outputs": [
      {
       "metadata": {},
       "output_type": "pyout",
       "prompt_number": 23,
       "text": [
        "([array([ 4784.,  4657.,  4646.,  4732.,  4724.,  4655.,  4644.,  4724.,\n",
        "        4591.,  4804.,  4666.,  4735.,  4652.,  4691.,  4824.,  4792.,\n",
        "        4800.,  4741.,  4755.,  4834.,  4748.,  4739.,  4597.,  4634.,\n",
        "        4719.,  4751.,  4655.,  4667.,  4760.,  4630.,  4600.,  4782.,\n",
        "        4787.,  4845.,  4804.,  4708.,  4725.,  4746.,  4798.,  4651.,\n",
        "        4695.,  4807.,  4695.,  4661.,  4753.,  4719.,  4677.,  4768.,\n",
        "        4765.,  4694.,  4682.,  4718.,  4857.,  4650.,  4785.,  4782.,\n",
        "        4679.,  4684.,  4815.,  4712.,  4778.,  4857.,  4731.,  4701.,\n",
        "        4682.,  4727.,  4682.,  4664.,  4796.,  4678.,  4628.,  4635.,\n",
        "        4745.,  4853.,  4613.,  4828.,  4697.,  4782.,  4730.,  4649.,\n",
        "        4707.,  4837.,  4721.,  4721.,  4692.,  4781.,  4728.,  4764.,\n",
        "        4724.,  4686.,  4785.,  4796.,  4915.,  4733.,  4633.,  4675.,\n",
        "        4715.,  4682.,  4830.,  4659.]),\n",
        "  array([     0.,      0.,      0.,      0.,      0.,      0.,      0.,\n",
        "            0.,      0.,      0.,      0.,      0.,      0.,      0.,\n",
        "            0.,      0.,      0.,      0.,      0.,      0.,      0.,\n",
        "            0.,      0.,      0.,      0.,      0.,      0.,      0.,\n",
        "            0.,      0.,      0.,      0.,      0.,      0.,      0.,\n",
        "            0.,      0.,      0.,      0.,      0.,      0.,      0.,\n",
        "            0.,      0.,      0.,      0.,      0.,      0.,      0.,\n",
        "            0.,  11200.,  10851.,  10948.,  11140.,  11151.,  11119.,\n",
        "        11236.,  11136.,  11078.,  11157.,  11137.,  11161.,  11102.,\n",
        "        11139.,  11200.,  10973.,  11214.,  11195.,  11108.,  11077.,\n",
        "            0.,      0.,      0.,      0.,      0.,      0.,      0.,\n",
        "            0.,      0.,      0.,      0.,      0.,      0.,      0.,\n",
        "            0.,      0.,      0.,      0.,      0.,      0.,      0.,\n",
        "            0.,      0.,      0.,      0.,      0.,      0.,      0.,\n",
        "            0.,      0.])],\n",
        " array([  0. ,   0.1,   0.2,   0.3,   0.4,   0.5,   0.6,   0.7,   0.8,\n",
        "         0.9,   1. ,   1.1,   1.2,   1.3,   1.4,   1.5,   1.6,   1.7,\n",
        "         1.8,   1.9,   2. ,   2.1,   2.2,   2.3,   2.4,   2.5,   2.6,\n",
        "         2.7,   2.8,   2.9,   3. ,   3.1,   3.2,   3.3,   3.4,   3.5,\n",
        "         3.6,   3.7,   3.8,   3.9,   4. ,   4.1,   4.2,   4.3,   4.4,\n",
        "         4.5,   4.6,   4.7,   4.8,   4.9,   5. ,   5.1,   5.2,   5.3,\n",
        "         5.4,   5.5,   5.6,   5.7,   5.8,   5.9,   6. ,   6.1,   6.2,\n",
        "         6.3,   6.4,   6.5,   6.6,   6.7,   6.8,   6.9,   7. ,   7.1,\n",
        "         7.2,   7.3,   7.4,   7.5,   7.6,   7.7,   7.8,   7.9,   8. ,\n",
        "         8.1,   8.2,   8.3,   8.4,   8.5,   8.6,   8.7,   8.8,   8.9,\n",
        "         9. ,   9.1,   9.2,   9.3,   9.4,   9.5,   9.6,   9.7,   9.8,\n",
        "         9.9,  10. ]),\n",
        " <a list of 2 Lists of Patches objects>)"
       ]
      },
      {
       "metadata": {},
       "output_type": "display_data",
       "png": "[encoded data removed]",
       "text": [
        "<matplotlib.figure.Figure at 0x10a1d1910>"
       ]
      }
     ],
     "prompt_number": 23
    },
    {
     "cell_type": "code",
     "collapsed": false,
     "input": [
      "def pl(x):\n",
      "    \n",
      "    return 4.*x**(-.1)\n",
      "\n",
      "def pl2(x):\n",
      "    \n",
      "    return 5.E2*x**(-1.)\n",
      "\n",
      "A=map(pl,range(1,21))\n",
      "Ep=map(pl2,range(1,21))\n",
      "pe = zip([4.]*30,[500.]*30,[-1.]*30,[-2.2]*30)\n",
      "from models import Band"
     ],
     "language": "python",
     "metadata": {},
     "outputs": [],
     "prompt_number": 2
    },
    {
     "cell_type": "code",
     "collapsed": false,
     "input": [
      "def powerlaw(x,a,index):\n",
      "    \n",
      "    return a*x**(index)"
     ],
     "language": "python",
     "metadata": {},
     "outputs": [],
     "prompt_number": 2
    },
    {
     "cell_type": "code",
     "collapsed": false,
     "input": [
      "pe = zip([1.E4]*30,[-2.]*30)"
     ],
     "language": "python",
     "metadata": {},
     "outputs": [],
     "prompt_number": 3
    },
    {
     "cell_type": "code",
     "collapsed": false,
     "input": [
      "\n"
     ],
     "language": "python",
     "metadata": {},
     "outputs": [],
     "prompt_number": 6
    },
    {
     "cell_type": "code",
     "collapsed": false,
     "input": [],
     "language": "python",
     "metadata": {},
     "outputs": [],
     "prompt_number": 7
    },
    {
     "cell_type": "code",
     "collapsed": false,
     "input": [],
     "language": "python",
     "metadata": {},
     "outputs": [],
     "prompt_number": 8
    },
    {
     "cell_type": "code",
     "collapsed": false,
     "input": [
      "linspace(0.,10.,101)"
     ],
     "language": "python",
     "metadata": {},
     "outputs": [
      {
       "metadata": {},
       "output_type": "pyout",
       "prompt_number": 22,
       "text": [
        "array([  0. ,   0.1,   0.2,   0.3,   0.4,   0.5,   0.6,   0.7,   0.8,\n",
        "         0.9,   1. ,   1.1,   1.2,   1.3,   1.4,   1.5,   1.6,   1.7,\n",
        "         1.8,   1.9,   2. ,   2.1,   2.2,   2.3,   2.4,   2.5,   2.6,\n",
        "         2.7,   2.8,   2.9,   3. ,   3.1,   3.2,   3.3,   3.4,   3.5,\n",
        "         3.6,   3.7,   3.8,   3.9,   4. ,   4.1,   4.2,   4.3,   4.4,\n",
        "         4.5,   4.6,   4.7,   4.8,   4.9,   5. ,   5.1,   5.2,   5.3,\n",
        "         5.4,   5.5,   5.6,   5.7,   5.8,   5.9,   6. ,   6.1,   6.2,\n",
        "         6.3,   6.4,   6.5,   6.6,   6.7,   6.8,   6.9,   7. ,   7.1,\n",
        "         7.2,   7.3,   7.4,   7.5,   7.6,   7.7,   7.8,   7.9,   8. ,\n",
        "         8.1,   8.2,   8.3,   8.4,   8.5,   8.6,   8.7,   8.8,   8.9,\n",
        "         9. ,   9.1,   9.2,   9.3,   9.4,   9.5,   9.6,   9.7,   9.8,\n",
        "         9.9,  10. ])"
       ]
      }
     ],
     "prompt_number": 22
    },
    {
     "cell_type": "code",
     "collapsed": false,
     "input": [
      "import astropy.io.fits as fits"
     ],
     "language": "python",
     "metadata": {},
     "outputs": [],
     "prompt_number": 25
    },
    {
     "cell_type": "code",
     "collapsed": false,
     "input": [
      "f=fits.open(\"b1.fit\")"
     ],
     "language": "python",
     "metadata": {},
     "outputs": [],
     "prompt_number": 26
    },
    {
     "cell_type": "code",
     "collapsed": false,
     "input": [
      "f[1].data"
     ],
     "language": "python",
     "metadata": {},
     "outputs": [
      {
       "metadata": {},
       "output_type": "pyout",
       "prompt_number": 27,
       "text": [
        "FITS_rec([(0, 104.79131, 139.40894), (1, 139.40894, 173.98766),\n",
        "       (2, 173.98766, 208.52959), (3, 208.52959, 243.03682),\n",
        "       (4, 243.03682, 277.51144), (5, 277.51144, 311.9556),\n",
        "       (6, 311.9556, 346.37137), (7, 346.37137, 380.76083),\n",
        "       (8, 380.76083, 415.12613), (9, 415.12613, 449.46936),\n",
        "       (10, 449.46936, 483.79257), (11, 483.79257, 518.09796),\n",
        "       (12, 518.09796, 563.81427), (13, 563.81427, 609.50751),\n",
        "       (14, 609.50751, 655.18274), (15, 655.18274, 700.84485),\n",
        "       (16, 700.84485, 746.49884), (17, 746.49884, 792.14972),\n",
        "       (18, 792.14972, 837.80243), (19, 837.80243, 883.46204),\n",
        "       (20, 883.46204, 929.13348), (21, 929.13348, 974.82172),\n",
        "       (22, 974.82172, 1020.5318), (23, 1020.5318, 1077.7076),\n",
        "       (24, 1077.7076, 1134.9351), (25, 1134.9351, 1192.2238),\n",
        "       (26, 1192.2238, 1249.5835), (27, 1249.5835, 1307.024),\n",
        "       (28, 1307.024, 1364.5552), (29, 1364.5552, 1422.1865),\n",
        "       (30, 1422.1865, 1479.9204), (31, 1479.9204, 1549.2859),\n",
        "       (32, 1549.2859, 1618.6683), (33, 1618.6683, 1687.9873),\n",
        "       (34, 1687.9873, 1757.1626), (35, 1757.1626, 1826.114),\n",
        "       (36, 1826.114, 1894.7614), (37, 1894.7614, 1963.0243),\n",
        "       (38, 1963.0243, 2042.1656), (39, 2042.1656, 2120.9666),\n",
        "       (40, 2120.9666, 2199.6609), (41, 2199.6609, 2278.4673),\n",
        "       (42, 2278.4673, 2357.4587), (43, 2357.4587, 2436.6262),\n",
        "       (44, 2436.6262, 2527.3066), (45, 2527.3066, 2618.1892),\n",
        "       (46, 2618.1892, 2709.2595), (47, 2709.2595, 2800.5027),\n",
        "       (48, 2800.5027, 2891.9041), (49, 2891.9041, 2983.4487),\n",
        "       (50, 2983.4487, 3086.5896), (51, 3086.5896, 3189.8721),\n",
        "       (52, 3189.8721, 3293.2751), (53, 3293.2751, 3396.7781),\n",
        "       (54, 3396.7781, 3511.8726), (55, 3511.8726, 3627.0354),\n",
        "       (56, 3627.0354, 3742.2378), (57, 3742.2378, 3857.4507),\n",
        "       (58, 3857.4507, 3984.1628), (59, 3984.1628, 4110.8213),\n",
        "       (60, 4110.8213, 4237.4199), (61, 4237.4199, 4363.96),\n",
        "       (62, 4363.96, 4501.9365), (63, 4501.9365, 4639.8433),\n",
        "       (64, 4639.8433, 4777.6812), (65, 4777.6812, 4926.9277),\n",
        "       (66, 4926.9277, 5076.0947), (67, 5076.0947, 5225.1816),\n",
        "       (68, 5225.1816, 5385.6489), (69, 5385.6489, 5546.0254),\n",
        "       (70, 5546.0254, 5717.7573), (71, 5717.7573, 5889.3867),\n",
        "       (72, 5889.3867, 6060.9146), (73, 6060.9146, 6243.7656),\n",
        "       (74, 6243.7656, 6426.5034), (75, 6426.5034, 6620.5391),\n",
        "       (76, 6620.5391, 6814.4482), (77, 6814.4482, 7019.6279),\n",
        "       (78, 7019.6279, 7236.0566), (79, 7236.0566, 7452.3325),\n",
        "       (80, 7452.3325, 7679.8286), (81, 7679.8286, 7907.1602),\n",
        "       (82, 7907.1602, 8145.6821), (83, 8145.6821, 8395.373),\n",
        "       (84, 8395.373, 8656.207), (85, 8656.207, 8916.8359),\n",
        "       (86, 8916.8359, 9188.5781), (87, 9188.5781, 9471.4111),\n",
        "       (88, 9471.4111, 9765.3115), (89, 9765.3115, 10070.253),\n",
        "       (90, 10070.253, 10386.212), (91, 10386.212, 10713.165),\n",
        "       (92, 10713.165, 11062.346), (93, 11062.346, 11422.451),\n",
        "       (94, 11422.451, 11793.457), (95, 11793.457, 12186.567),\n",
        "       (96, 12186.567, 12590.512), (97, 12590.512, 13016.472),\n",
        "       (98, 13016.472, 13464.395), (99, 13464.395, 13934.228),\n",
        "       (100, 13934.228, 14425.919), (101, 14425.919, 14939.42),\n",
        "       (102, 14939.42, 15474.685), (103, 15474.685, 16042.807),\n",
        "       (104, 16042.807, 16632.59), (105, 16632.59, 17255.115),\n",
        "       (106, 17255.115, 17921.422), (107, 17921.422, 18620.344),\n",
        "       (108, 18620.344, 19362.922), (109, 19362.922, 20138.039),\n",
        "       (110, 20138.039, 20967.812), (111, 20967.812, 21841.162),\n",
        "       (112, 21841.162, 22769.162), (113, 22769.162, 23762.9),\n",
        "       (114, 23762.9, 24822.465), (115, 24822.465, 25948.02),\n",
        "       (116, 25948.02, 27150.854), (117, 27150.854, 28431.332),\n",
        "       (118, 28431.332, 29801.012), (119, 29801.012, 31271.668),\n",
        "       (120, 31271.668, 32855.371), (121, 32855.371, 34553.477),\n",
        "       (122, 34553.477, 36390.02), (123, 36390.02, 38367.461),\n",
        "       (124, 38367.461, 40511.395), (125, 40511.395, 42973.402),\n",
        "       (126, 42973.402, 45762.551), (127, 45762.551, 50000.0)], \n",
        "      dtype=[('CHANNEL', '>i2'), ('E_MIN', '>f4'), ('E_MAX', '>f4')])"
       ]
      }
     ],
     "prompt_number": 27
    },
    {
     "cell_type": "code",
     "collapsed": false,
     "input": [],
     "language": "python",
     "metadata": {},
     "outputs": []
    }
   ],
   "metadata": {}
  }
 ]
}