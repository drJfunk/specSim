{
 "metadata": {
  "name": ""
 },
 "nbformat": 3,
 "nbformat_minor": 0,
 "worksheets": [
  {
   "cells": [
    {
     "cell_type": "code",
     "collapsed": false,
     "input": [
      "from lightCurveGen import lightCurveGen\n",
      "from pulse import KRL"
     ],
     "language": "python",
     "metadata": {},
     "outputs": [],
     "prompt_number": 1
    },
    {
     "cell_type": "code",
     "collapsed": false,
     "input": [
      "pulseStart = 0.0\n",
      "tStart = -5.0\n",
      "tStop = 20.0\n",
      "pulseStop = 10.\n",
      "dt = .01"
     ],
     "language": "python",
     "metadata": {},
     "outputs": [],
     "prompt_number": 2
    },
    {
     "cell_type": "code",
     "collapsed": false,
     "input": [
      "time = arange(pulseStart,pulseStop,dt)\n",
      "time"
     ],
     "language": "python",
     "metadata": {},
     "outputs": [
      {
       "metadata": {},
       "output_type": "pyout",
       "prompt_number": 8,
       "text": [
        "array([ 0.  ,  0.01,  0.02,  0.03,  0.04,  0.05,  0.06,  0.07,  0.08,\n",
        "        0.09,  0.1 ,  0.11,  0.12,  0.13,  0.14,  0.15,  0.16,  0.17,\n",
        "        0.18,  0.19,  0.2 ,  0.21,  0.22,  0.23,  0.24,  0.25,  0.26,\n",
        "        0.27,  0.28,  0.29,  0.3 ,  0.31,  0.32,  0.33,  0.34,  0.35,\n",
        "        0.36,  0.37,  0.38,  0.39,  0.4 ,  0.41,  0.42,  0.43,  0.44,\n",
        "        0.45,  0.46,  0.47,  0.48,  0.49,  0.5 ,  0.51,  0.52,  0.53,\n",
        "        0.54,  0.55,  0.56,  0.57,  0.58,  0.59,  0.6 ,  0.61,  0.62,\n",
        "        0.63,  0.64,  0.65,  0.66,  0.67,  0.68,  0.69,  0.7 ,  0.71,\n",
        "        0.72,  0.73,  0.74,  0.75,  0.76,  0.77,  0.78,  0.79,  0.8 ,\n",
        "        0.81,  0.82,  0.83,  0.84,  0.85,  0.86,  0.87,  0.88,  0.89,\n",
        "        0.9 ,  0.91,  0.92,  0.93,  0.94,  0.95,  0.96,  0.97,  0.98,\n",
        "        0.99,  1.  ,  1.01,  1.02,  1.03,  1.04,  1.05,  1.06,  1.07,\n",
        "        1.08,  1.09,  1.1 ,  1.11,  1.12,  1.13,  1.14,  1.15,  1.16,\n",
        "        1.17,  1.18,  1.19,  1.2 ,  1.21,  1.22,  1.23,  1.24,  1.25,\n",
        "        1.26,  1.27,  1.28,  1.29,  1.3 ,  1.31,  1.32,  1.33,  1.34,\n",
        "        1.35,  1.36,  1.37,  1.38,  1.39,  1.4 ,  1.41,  1.42,  1.43,\n",
        "        1.44,  1.45,  1.46,  1.47,  1.48,  1.49,  1.5 ,  1.51,  1.52,\n",
        "        1.53,  1.54,  1.55,  1.56,  1.57,  1.58,  1.59,  1.6 ,  1.61,\n",
        "        1.62,  1.63,  1.64,  1.65,  1.66,  1.67,  1.68,  1.69,  1.7 ,\n",
        "        1.71,  1.72,  1.73,  1.74,  1.75,  1.76,  1.77,  1.78,  1.79,\n",
        "        1.8 ,  1.81,  1.82,  1.83,  1.84,  1.85,  1.86,  1.87,  1.88,\n",
        "        1.89,  1.9 ,  1.91,  1.92,  1.93,  1.94,  1.95,  1.96,  1.97,\n",
        "        1.98,  1.99,  2.  ,  2.01,  2.02,  2.03,  2.04,  2.05,  2.06,\n",
        "        2.07,  2.08,  2.09,  2.1 ,  2.11,  2.12,  2.13,  2.14,  2.15,\n",
        "        2.16,  2.17,  2.18,  2.19,  2.2 ,  2.21,  2.22,  2.23,  2.24,\n",
        "        2.25,  2.26,  2.27,  2.28,  2.29,  2.3 ,  2.31,  2.32,  2.33,\n",
        "        2.34,  2.35,  2.36,  2.37,  2.38,  2.39,  2.4 ,  2.41,  2.42,\n",
        "        2.43,  2.44,  2.45,  2.46,  2.47,  2.48,  2.49,  2.5 ,  2.51,\n",
        "        2.52,  2.53,  2.54,  2.55,  2.56,  2.57,  2.58,  2.59,  2.6 ,\n",
        "        2.61,  2.62,  2.63,  2.64,  2.65,  2.66,  2.67,  2.68,  2.69,\n",
        "        2.7 ,  2.71,  2.72,  2.73,  2.74,  2.75,  2.76,  2.77,  2.78,\n",
        "        2.79,  2.8 ,  2.81,  2.82,  2.83,  2.84,  2.85,  2.86,  2.87,\n",
        "        2.88,  2.89,  2.9 ,  2.91,  2.92,  2.93,  2.94,  2.95,  2.96,\n",
        "        2.97,  2.98,  2.99,  3.  ,  3.01,  3.02,  3.03,  3.04,  3.05,\n",
        "        3.06,  3.07,  3.08,  3.09,  3.1 ,  3.11,  3.12,  3.13,  3.14,\n",
        "        3.15,  3.16,  3.17,  3.18,  3.19,  3.2 ,  3.21,  3.22,  3.23,\n",
        "        3.24,  3.25,  3.26,  3.27,  3.28,  3.29,  3.3 ,  3.31,  3.32,\n",
        "        3.33,  3.34,  3.35,  3.36,  3.37,  3.38,  3.39,  3.4 ,  3.41,\n",
        "        3.42,  3.43,  3.44,  3.45,  3.46,  3.47,  3.48,  3.49,  3.5 ,\n",
        "        3.51,  3.52,  3.53,  3.54,  3.55,  3.56,  3.57,  3.58,  3.59,\n",
        "        3.6 ,  3.61,  3.62,  3.63,  3.64,  3.65,  3.66,  3.67,  3.68,\n",
        "        3.69,  3.7 ,  3.71,  3.72,  3.73,  3.74,  3.75,  3.76,  3.77,\n",
        "        3.78,  3.79,  3.8 ,  3.81,  3.82,  3.83,  3.84,  3.85,  3.86,\n",
        "        3.87,  3.88,  3.89,  3.9 ,  3.91,  3.92,  3.93,  3.94,  3.95,\n",
        "        3.96,  3.97,  3.98,  3.99,  4.  ,  4.01,  4.02,  4.03,  4.04,\n",
        "        4.05,  4.06,  4.07,  4.08,  4.09,  4.1 ,  4.11,  4.12,  4.13,\n",
        "        4.14,  4.15,  4.16,  4.17,  4.18,  4.19,  4.2 ,  4.21,  4.22,\n",
        "        4.23,  4.24,  4.25,  4.26,  4.27,  4.28,  4.29,  4.3 ,  4.31,\n",
        "        4.32,  4.33,  4.34,  4.35,  4.36,  4.37,  4.38,  4.39,  4.4 ,\n",
        "        4.41,  4.42,  4.43,  4.44,  4.45,  4.46,  4.47,  4.48,  4.49,\n",
        "        4.5 ,  4.51,  4.52,  4.53,  4.54,  4.55,  4.56,  4.57,  4.58,\n",
        "        4.59,  4.6 ,  4.61,  4.62,  4.63,  4.64,  4.65,  4.66,  4.67,\n",
        "        4.68,  4.69,  4.7 ,  4.71,  4.72,  4.73,  4.74,  4.75,  4.76,\n",
        "        4.77,  4.78,  4.79,  4.8 ,  4.81,  4.82,  4.83,  4.84,  4.85,\n",
        "        4.86,  4.87,  4.88,  4.89,  4.9 ,  4.91,  4.92,  4.93,  4.94,\n",
        "        4.95,  4.96,  4.97,  4.98,  4.99,  5.  ,  5.01,  5.02,  5.03,\n",
        "        5.04,  5.05,  5.06,  5.07,  5.08,  5.09,  5.1 ,  5.11,  5.12,\n",
        "        5.13,  5.14,  5.15,  5.16,  5.17,  5.18,  5.19,  5.2 ,  5.21,\n",
        "        5.22,  5.23,  5.24,  5.25,  5.26,  5.27,  5.28,  5.29,  5.3 ,\n",
        "        5.31,  5.32,  5.33,  5.34,  5.35,  5.36,  5.37,  5.38,  5.39,\n",
        "        5.4 ,  5.41,  5.42,  5.43,  5.44,  5.45,  5.46,  5.47,  5.48,\n",
        "        5.49,  5.5 ,  5.51,  5.52,  5.53,  5.54,  5.55,  5.56,  5.57,\n",
        "        5.58,  5.59,  5.6 ,  5.61,  5.62,  5.63,  5.64,  5.65,  5.66,\n",
        "        5.67,  5.68,  5.69,  5.7 ,  5.71,  5.72,  5.73,  5.74,  5.75,\n",
        "        5.76,  5.77,  5.78,  5.79,  5.8 ,  5.81,  5.82,  5.83,  5.84,\n",
        "        5.85,  5.86,  5.87,  5.88,  5.89,  5.9 ,  5.91,  5.92,  5.93,\n",
        "        5.94,  5.95,  5.96,  5.97,  5.98,  5.99,  6.  ,  6.01,  6.02,\n",
        "        6.03,  6.04,  6.05,  6.06,  6.07,  6.08,  6.09,  6.1 ,  6.11,\n",
        "        6.12,  6.13,  6.14,  6.15,  6.16,  6.17,  6.18,  6.19,  6.2 ,\n",
        "        6.21,  6.22,  6.23,  6.24,  6.25,  6.26,  6.27,  6.28,  6.29,\n",
        "        6.3 ,  6.31,  6.32,  6.33,  6.34,  6.35,  6.36,  6.37,  6.38,\n",
        "        6.39,  6.4 ,  6.41,  6.42,  6.43,  6.44,  6.45,  6.46,  6.47,\n",
        "        6.48,  6.49,  6.5 ,  6.51,  6.52,  6.53,  6.54,  6.55,  6.56,\n",
        "        6.57,  6.58,  6.59,  6.6 ,  6.61,  6.62,  6.63,  6.64,  6.65,\n",
        "        6.66,  6.67,  6.68,  6.69,  6.7 ,  6.71,  6.72,  6.73,  6.74,\n",
        "        6.75,  6.76,  6.77,  6.78,  6.79,  6.8 ,  6.81,  6.82,  6.83,\n",
        "        6.84,  6.85,  6.86,  6.87,  6.88,  6.89,  6.9 ,  6.91,  6.92,\n",
        "        6.93,  6.94,  6.95,  6.96,  6.97,  6.98,  6.99,  7.  ,  7.01,\n",
        "        7.02,  7.03,  7.04,  7.05,  7.06,  7.07,  7.08,  7.09,  7.1 ,\n",
        "        7.11,  7.12,  7.13,  7.14,  7.15,  7.16,  7.17,  7.18,  7.19,\n",
        "        7.2 ,  7.21,  7.22,  7.23,  7.24,  7.25,  7.26,  7.27,  7.28,\n",
        "        7.29,  7.3 ,  7.31,  7.32,  7.33,  7.34,  7.35,  7.36,  7.37,\n",
        "        7.38,  7.39,  7.4 ,  7.41,  7.42,  7.43,  7.44,  7.45,  7.46,\n",
        "        7.47,  7.48,  7.49,  7.5 ,  7.51,  7.52,  7.53,  7.54,  7.55,\n",
        "        7.56,  7.57,  7.58,  7.59,  7.6 ,  7.61,  7.62,  7.63,  7.64,\n",
        "        7.65,  7.66,  7.67,  7.68,  7.69,  7.7 ,  7.71,  7.72,  7.73,\n",
        "        7.74,  7.75,  7.76,  7.77,  7.78,  7.79,  7.8 ,  7.81,  7.82,\n",
        "        7.83,  7.84,  7.85,  7.86,  7.87,  7.88,  7.89,  7.9 ,  7.91,\n",
        "        7.92,  7.93,  7.94,  7.95,  7.96,  7.97,  7.98,  7.99,  8.  ,\n",
        "        8.01,  8.02,  8.03,  8.04,  8.05,  8.06,  8.07,  8.08,  8.09,\n",
        "        8.1 ,  8.11,  8.12,  8.13,  8.14,  8.15,  8.16,  8.17,  8.18,\n",
        "        8.19,  8.2 ,  8.21,  8.22,  8.23,  8.24,  8.25,  8.26,  8.27,\n",
        "        8.28,  8.29,  8.3 ,  8.31,  8.32,  8.33,  8.34,  8.35,  8.36,\n",
        "        8.37,  8.38,  8.39,  8.4 ,  8.41,  8.42,  8.43,  8.44,  8.45,\n",
        "        8.46,  8.47,  8.48,  8.49,  8.5 ,  8.51,  8.52,  8.53,  8.54,\n",
        "        8.55,  8.56,  8.57,  8.58,  8.59,  8.6 ,  8.61,  8.62,  8.63,\n",
        "        8.64,  8.65,  8.66,  8.67,  8.68,  8.69,  8.7 ,  8.71,  8.72,\n",
        "        8.73,  8.74,  8.75,  8.76,  8.77,  8.78,  8.79,  8.8 ,  8.81,\n",
        "        8.82,  8.83,  8.84,  8.85,  8.86,  8.87,  8.88,  8.89,  8.9 ,\n",
        "        8.91,  8.92,  8.93,  8.94,  8.95,  8.96,  8.97,  8.98,  8.99,\n",
        "        9.  ,  9.01,  9.02,  9.03,  9.04,  9.05,  9.06,  9.07,  9.08,\n",
        "        9.09,  9.1 ,  9.11,  9.12,  9.13,  9.14,  9.15,  9.16,  9.17,\n",
        "        9.18,  9.19,  9.2 ,  9.21,  9.22,  9.23,  9.24,  9.25,  9.26,\n",
        "        9.27,  9.28,  9.29,  9.3 ,  9.31,  9.32,  9.33,  9.34,  9.35,\n",
        "        9.36,  9.37,  9.38,  9.39,  9.4 ,  9.41,  9.42,  9.43,  9.44,\n",
        "        9.45,  9.46,  9.47,  9.48,  9.49,  9.5 ,  9.51,  9.52,  9.53,\n",
        "        9.54,  9.55,  9.56,  9.57,  9.58,  9.59,  9.6 ,  9.61,  9.62,\n",
        "        9.63,  9.64,  9.65,  9.66,  9.67,  9.68,  9.69,  9.7 ,  9.71,\n",
        "        9.72,  9.73,  9.74,  9.75,  9.76,  9.77,  9.78,  9.79,  9.8 ,\n",
        "        9.81,  9.82,  9.83,  9.84,  9.85,  9.86,  9.87,  9.88,  9.89,\n",
        "        9.9 ,  9.91,  9.92,  9.93,  9.94,  9.95,  9.96,  9.97,  9.98,  9.99])"
       ]
      }
     ],
     "prompt_number": 8
    },
    {
     "cell_type": "code",
     "collapsed": false,
     "input": [
      "\n",
      "def pl2(x):\n",
      "    \n",
      "    return 1.E3*x**(-1.)\n",
      "\n",
      "A=map(lambda t: KRL(t,.5,.1, 2.,1.,.3), time)\n",
      "Ep=map(pl2,time+1.)\n",
      "\n",
      "pe = zip(A,Ep,[-1.]*len(time),[-2.2]*len(time))\n",
      "from models import Band"
     ],
     "language": "python",
     "metadata": {},
     "outputs": [],
     "prompt_number": 9
    },
    {
     "cell_type": "code",
     "collapsed": false,
     "input": [
      "lcg=lightCurveGen(\"glg_cspec_b1_bn131216081_v01.rsp\",dt,pulseStart,'b1.fit')\n",
      "lcg.ConstructBackground(tStart,tStop,20.,-1.3)\n",
      "lcg.ConstructSignal(pulseStop,Band,pe,intType=\"qd\")\n",
      "lcg.FormatEvtsChans()\n",
      "lcg.MakeTTE()\n",
      "del lcg"
     ],
     "language": "python",
     "metadata": {},
     "outputs": [
      {
       "output_type": "stream",
       "stream": "stderr",
       "text": [
        "WARNING:astropy:Overwriting existing file 'b1.fit'.\n"
       ]
      },
      {
       "output_type": "stream",
       "stream": "stdout",
       "text": [
        "WARNING: Overwriting existing file 'b1.fit'. [astropy.io.fits.file]\n"
       ]
      }
     ],
     "prompt_number": 10
    },
    {
     "cell_type": "code",
     "collapsed": false,
     "input": [
      "lcg=lightCurveGen(\"glg_cspec_n6_bn131216081_v01.rsp\",dt,pulseStart,'n6.fit')\n",
      "lcg.ConstructBackground(tStart,tStop,20.,-1.3)\n",
      "lcg.ConstructSignal(pulseStop,Band,pe,intType=\"qd\")\n",
      "lcg.FormatEvtsChans()\n",
      "lcg.MakeTTE()\n",
      "del lcg"
     ],
     "language": "python",
     "metadata": {},
     "outputs": [],
     "prompt_number": 13
    },
    {
     "cell_type": "code",
     "collapsed": false,
     "input": [
      "lcg=lightCurveGen(\"glg_cspec_n9_bn131216081_v01.rsp\",dt,pulseStart,'n9.fit')\n",
      "lcg.ConstructBackground(tStart,tStop,20.,-1.3)\n",
      "lcg.ConstructSignal(pulseStop,Band,pe,intType=\"qd\")\n",
      "lcg.FormatEvtsChans()\n",
      "lcg.MakeTTE()\n",
      "del lcg"
     ],
     "language": "python",
     "metadata": {},
     "outputs": [],
     "prompt_number": 14
    },
    {
     "cell_type": "code",
     "collapsed": false,
     "input": [
      "from astroML.density_estimation import histtools, bayesian_blocks\n",
      "from astroML.plotting import hist as mlHist\n",
      "import astropy.io.fits as fits "
     ],
     "language": "python",
     "metadata": {},
     "outputs": [],
     "prompt_number": 19
    },
    {
     "cell_type": "code",
     "collapsed": false,
     "input": [
      "f=fits.open(\"n6.fit\")\n",
      "data = f[2].data['TIME']"
     ],
     "language": "python",
     "metadata": {},
     "outputs": [],
     "prompt_number": 24
    },
    {
     "cell_type": "code",
     "collapsed": false,
     "input": [
      "mlHist(data,bins='blocks')"
     ],
     "language": "python",
     "metadata": {},
     "outputs": [
      {
       "metadata": {},
       "output_type": "pyout",
       "prompt_number": 33,
       "text": [
        "(array([ 10518.,    488.,    851.,   6029.,   3400.,   2139.,   2977.,\n",
        "         2530.,   3818.,   3076.,   6853.,   8587.,  20873.]),\n",
        " array([ -4.99962118e+00,   1.07125261e-02,   1.26763480e-01,\n",
        "         2.46310304e-01,   8.20559522e-01,   1.23032575e+00,\n",
        "         1.53353111e+00,   2.04095045e+00,   2.56710191e+00,\n",
        "         3.52409764e+00,   4.38915150e+00,   6.71055129e+00,\n",
        "         1.00273288e+01,   1.99993153e+01]),\n",
        " <a list of 13 Patch objects>)"
       ]
      },
      {
       "metadata": {},
       "output_type": "display_data",
       "png": "[encoded data removed]",
       "text": [
        "<matplotlib.figure.Figure at 0x10ab92bd0>"
       ]
      }
     ],
     "prompt_number": 33
    },
    {
     "cell_type": "code",
     "collapsed": false,
     "input": [
      "mlHist(data,bins=a)"
     ],
     "language": "python",
     "metadata": {},
     "outputs": [
      {
       "metadata": {},
       "output_type": "pyout",
       "prompt_number": 36,
       "text": [
        "(array([ 10518.,    488.,    851.,   6029.,   3400.,   2139.,   2977.,\n",
        "         2530.,   3818.,   3076.,   6853.,   8587.,  20872.]),\n",
        " array([ -4.99962118e+00,   1.07125261e-02,   1.26763480e-01,\n",
        "         2.46310304e-01,   8.20559522e-01,   1.23032575e+00,\n",
        "         1.53353111e+00,   2.04095045e+00,   2.56710191e+00,\n",
        "         3.52409764e+00,   4.38915150e+00,   6.71055129e+00,\n",
        "         1.00273288e+01,   1.99993153e+01]),\n",
        " <a list of 13 Patch objects>)"
       ]
      },
      {
       "metadata": {},
       "output_type": "display_data",
       "png": "[encoded data removed]",
       "text": [
        "<matplotlib.figure.Figure at 0x10a7956d0>"
       ]
      }
     ],
     "prompt_number": 36
    },
    {
     "cell_type": "code",
     "collapsed": false,
     "input": [
      "a=array([ -4.99962118e+00,   1.07125261e-02,   1.26763480e-01,\n",
      "         2.46310304e-01,   8.20559522e-01,   1.23032575e+00,\n",
      "         1.53353111e+00,   2.04095045e+00,   2.56710191e+00,\n",
      "         3.52409764e+00,   4.38915150e+00,   6.71055129e+00,\n",
      "         1.00273288e+01,   1.99993153e+01])"
     ],
     "language": "python",
     "metadata": {},
     "outputs": [],
     "prompt_number": 35
    },
    {
     "cell_type": "code",
     "collapsed": false,
     "input": [
      "ti=open('b1.ti','w')"
     ],
     "language": "python",
     "metadata": {},
     "outputs": [],
     "prompt_number": 37
    },
    {
     "cell_type": "code",
     "collapsed": false,
     "input": [
      "ti.write(str(len(a))+'\\n')"
     ],
     "language": "python",
     "metadata": {},
     "outputs": [],
     "prompt_number": 38
    },
    {
     "cell_type": "code",
     "collapsed": false,
     "input": [
      "for x in a:\n",
      "    ti.write(str(x)+'\\n')"
     ],
     "language": "python",
     "metadata": {},
     "outputs": [],
     "prompt_number": 39
    },
    {
     "cell_type": "code",
     "collapsed": false,
     "input": [
      "ti.close()"
     ],
     "language": "python",
     "metadata": {},
     "outputs": [],
     "prompt_number": 40
    },
    {
     "cell_type": "code",
     "collapsed": false,
     "input": [
      "from spectralTools.scatReader import scatReader\n",
      "from spectralTools.funcFitter.funcFitter import funcFitter"
     ],
     "language": "python",
     "metadata": {},
     "outputs": [],
     "prompt_number": 55
    },
    {
     "cell_type": "code",
     "collapsed": false,
     "input": [
      "sc=scatReader(\"scat2.fit\")"
     ],
     "language": "python",
     "metadata": {},
     "outputs": [],
     "prompt_number": 89
    },
    {
     "cell_type": "code",
     "collapsed": false,
     "input": [
      "ep =sc.GetParamArray(\"Band's GRB, Epeak\",\"Epeak\")"
     ],
     "language": "python",
     "metadata": {},
     "outputs": [],
     "prompt_number": 90
    },
    {
     "cell_type": "code",
     "collapsed": false,
     "input": [
      "epErr=ep[:,1]\n",
      "ep=ep[:,0]"
     ],
     "language": "python",
     "metadata": {},
     "outputs": [],
     "prompt_number": 91
    },
    {
     "cell_type": "code",
     "collapsed": false,
     "input": [
      "ep"
     ],
     "language": "python",
     "metadata": {},
     "outputs": [
      {
       "metadata": {},
       "output_type": "pyout",
       "prompt_number": 92,
       "text": [
        "array([ 753.96948242,  603.67596436,  516.35046387,  290.21392822,\n",
        "        319.83364868,  213.84953308,  240.44316101,  241.6053772 ,\n",
        "        161.41279602,  223.15705872,  107.51608276,  148.03100586,\n",
        "        127.57737732,   74.59638214,   41.27267075,  115.51403046,\n",
        "         89.1256485 ,  500.        ,   61.16893005,   41.24308014])"
       ]
      }
     ],
     "prompt_number": 92
    },
    {
     "cell_type": "code",
     "collapsed": false,
     "input": [
      "errorbar(sc.meanTbins,ep,yerr=epErr)\n",
      "xscale('log')\n",
      "yscale('log')"
     ],
     "language": "python",
     "metadata": {},
     "outputs": [
      {
       "metadata": {},
       "output_type": "display_data",
       "png": "[encoded data removed]",
       "text": [
        "<matplotlib.figure.Figure at 0x10d19e650>"
       ]
      }
     ],
     "prompt_number": 93
    },
    {
     "cell_type": "code",
     "collapsed": false,
     "input": [
      "fit=funcFitter()"
     ],
     "language": "python",
     "metadata": {},
     "outputs": [
      {
       "output_type": "stream",
       "stream": "stdout",
       "text": [
        "Start Up\n"
       ]
      }
     ],
     "prompt_number": 94
    },
    {
     "cell_type": "code",
     "collapsed": false,
     "input": [
      "fit.SelectFunction(\"PowerLaw\")"
     ],
     "language": "python",
     "metadata": {},
     "outputs": [
      {
       "output_type": "stream",
       "stream": "stdout",
       "text": [
        "The parameters of this function are:\n",
        "norm\n",
        "index\n",
        "t0\n",
        "pivot\n"
       ]
      }
     ],
     "prompt_number": 95
    },
    {
     "cell_type": "code",
     "collapsed": false,
     "input": [
      "fit.SetXData(sc.meanTbins)\n",
      "fit.SetYData(ep)\n",
      "fit.SetYErr(epErr)\n",
      "fit.iVals=[100.,-1.,0.,5.]\n",
      "fit.fixed=[0,0,1,1]"
     ],
     "language": "python",
     "metadata": {},
     "outputs": [],
     "prompt_number": 102
    },
    {
     "cell_type": "code",
     "collapsed": false,
     "input": [
      "fit.Fit(showLog=True,showGuess=True)"
     ],
     "language": "python",
     "metadata": {},
     "outputs": [
      {
       "output_type": "stream",
       "stream": "stdout",
       "text": [
        "Fitting with PowerLaw\n",
        "\n",
        "Fit results: "
       ]
      },
      {
       "output_type": "stream",
       "stream": "stdout",
       "text": [
        "\n",
        "\n",
        "\n",
        "\n",
        "-----------> FIT FAILED!!!!!\n",
        "\n",
        "\n",
        "\n"
       ]
      },
      {
       "metadata": {},
       "output_type": "display_data",
       "png": "[encoded data removed]",
       "text": [
        "<matplotlib.figure.Figure at 0x10d1c0650>"
       ]
      }
     ],
     "prompt_number": 103
    },
    {
     "cell_type": "code",
     "collapsed": false,
     "input": [
      "fit.redChi2"
     ],
     "language": "python",
     "metadata": {},
     "outputs": [
      {
       "metadata": {},
       "output_type": "pyout",
       "prompt_number": 77,
       "text": [
        "2.9183966665953918"
       ]
      }
     ],
     "prompt_number": 77
    },
    {
     "cell_type": "code",
     "collapsed": false,
     "input": [
      "from spectralTools.binning.tteBinning import tteBinning"
     ],
     "language": "python",
     "metadata": {},
     "outputs": [],
     "prompt_number": 1
    },
    {
     "cell_type": "code",
     "collapsed": false,
     "input": [
      "t=tteBinning(\"n6.fit\",-3,15)"
     ],
     "language": "python",
     "metadata": {},
     "outputs": [],
     "prompt_number": 2
    },
    {
     "cell_type": "code",
     "collapsed": false,
     "input": [
      "t.MakeBlocks(.05)"
     ],
     "language": "python",
     "metadata": {},
     "outputs": [],
     "prompt_number": 4
    },
    {
     "cell_type": "code",
     "collapsed": false,
     "input": [
      "t._MakeTI()"
     ],
     "language": "python",
     "metadata": {},
     "outputs": [],
     "prompt_number": 8
    },
    {
     "cell_type": "code",
     "collapsed": false,
     "input": [
      "t.bins=b"
     ],
     "language": "python",
     "metadata": {},
     "outputs": [
      {
       "output_type": "stream",
       "stream": "stderr",
       "text": [
        "ERROR:astropy:NameError: name 'b' is not defined\n"
       ]
      },
      {
       "ename": "NameError",
       "evalue": "name 'b' is not defined",
       "output_type": "pyerr",
       "traceback": [
        "\u001b[0;31m---------------------------------------------------------------------------\u001b[0m\n\u001b[0;31mNameError\u001b[0m                                 Traceback (most recent call last)",
        "\u001b[0;32m<ipython-input-3-94be09ca1129>\u001b[0m in \u001b[0;36m<module>\u001b[0;34m()\u001b[0m\n\u001b[0;32m----> 1\u001b[0;31m \u001b[0mt\u001b[0m\u001b[0;34m.\u001b[0m\u001b[0mbins\u001b[0m\u001b[0;34m=\u001b[0m\u001b[0mb\u001b[0m\u001b[0;34m\u001b[0m\u001b[0m\n\u001b[0m",
        "\u001b[0;31mNameError\u001b[0m: name 'b' is not defined"
       ]
      },
      {
       "output_type": "stream",
       "stream": "stdout",
       "text": [
        "ERROR: NameError: name 'b' is not defined [IPython.core.interactiveshell]\n"
       ]
      }
     ],
     "prompt_number": 3
    },
    {
     "cell_type": "code",
     "collapsed": false,
     "input": [
      "b=t.bins"
     ],
     "language": "python",
     "metadata": {},
     "outputs": [],
     "prompt_number": 10
    },
    {
     "cell_type": "code",
     "collapsed": false,
     "input": [],
     "language": "python",
     "metadata": {},
     "outputs": []
    }
   ],
   "metadata": {}
  }
 ]
}