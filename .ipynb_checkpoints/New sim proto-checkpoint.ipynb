{
 "metadata": {
  "name": ""
 },
 "nbformat": 3,
 "nbformat_minor": 0,
 "worksheets": [
  {
   "cells": [
    {
     "cell_type": "code",
     "collapsed": false,
     "input": [
      "from simBuilder import simBuilder\n",
      "from models import BandSingle\n",
      "from pulse import KRL\n",
      "from models import BlackBody\n",
      "from scipy.integrate import quad\n",
      "from scipy.interpolate import interp1d"
     ],
     "language": "python",
     "metadata": {},
     "outputs": [],
     "prompt_number": 1
    },
    {
     "cell_type": "code",
     "collapsed": false,
     "input": [
      "bkgTime = [-10.,20.]\n",
      "sourceTime = [0.,16.]\n",
      "bkgParams = [300,-1.5]\n",
      "bn = \"130427324\"\n",
      "ext = \"130427A/\"\n",
      "simDets = [\"n6\",\"na\",\"b1\"]\n",
      "emin = 8.\n",
      "emax = 50000.\n",
      "\n",
      "eneSpan=[emin,emax]"
     ],
     "language": "python",
     "metadata": {},
     "outputs": [],
     "prompt_number": 2
    },
    {
     "cell_type": "code",
     "collapsed": false,
     "input": [
      "def pht(Ep):\n",
      "    emin = 8.\n",
      "    emax = 50000.\n",
      "    \n",
      "    b = lambda x: BandSingle(x,1.,Ep,-1.,-2.2) \n",
      "    \n",
      "    val = quad(b,emin,emax)[0]\n",
      "    \n",
      "    return val\n",
      "        \n",
      "Ep = logspace(log10(.1),log10(20000),100)        \n",
      "   \n",
      "flux =[]\n",
      "\n",
      "for ep in Ep:\n",
      "    flux.append(pht(ep))\n",
      "    \n",
      "interpF = interp1d(Ep,flux)"
     ],
     "language": "python",
     "metadata": {},
     "outputs": [],
     "prompt_number": 3
    },
    {
     "cell_type": "code",
     "collapsed": false,
     "input": [
      "def evo(ene,t):\n",
      "    \n",
      "    alpha = -1.\n",
      "    beta = -2.2\n",
      "    Ep = 1000.* (1+t)**(-1.)\n",
      "    \n",
      "    maxFlux = 10000.\n",
      "    \n",
      "    A = KRL(t,.5,.1, 2.,1.,maxFlux)\n",
      "    \n",
      "    \n",
      " #   b = lambda x: BandSingle(x,1.,Ep,alpha,beta)\n",
      "    renorm = interpF(Ep)\n",
      "    \n",
      "    \n",
      "    \n",
      "    val = BandSingle(ene,A,Ep,alpha,beta)/renorm\n",
      "    return val\n",
      "    "
     ],
     "language": "python",
     "metadata": {},
     "outputs": [],
     "prompt_number": 4
    },
    {
     "cell_type": "code",
     "collapsed": false,
     "input": [
      "sb = simBuilder(bn = bn,ext = ext, simDets = simDets, evo = evo)\n",
      "\n",
      "sb.SetEnergyRange(eneSpan)\n",
      "sb.SetBkgParams(bkgParams)\n",
      "sb.SetBkgTime(bkgTime)\n",
      "sb.SetSourceTime(sourceTime)\n"
     ],
     "language": "python",
     "metadata": {},
     "outputs": [
      {
       "output_type": "stream",
       "stream": "stdout",
       "text": [
        "Opening 130427A/glg_cspec_b1_bn130427324_v00.rsp2\n",
        "Read RSP file with angle: 64.800000\n",
        "Opening 130427A/glg_cspec_n6_bn130427324_v00.rsp2"
       ]
      },
      {
       "output_type": "stream",
       "stream": "stdout",
       "text": [
        "\n",
        "Read RSP file with angle: 51.900000\n",
        "Opening 130427A/glg_cspec_na_bn130427324_v00.rsp2"
       ]
      },
      {
       "output_type": "stream",
       "stream": "stdout",
       "text": [
        "\n",
        "Read RSP file with angle: 44.700000\n",
        "0.495686440616\n",
        "0.553136345537\n",
        "Backgrounda generated"
       ]
      },
      {
       "output_type": "stream",
       "stream": "stdout",
       "text": [
        "\n",
        "Light curve integrated!"
       ]
      },
      {
       "output_type": "stream",
       "stream": "stdout",
       "text": [
        "\n",
        "There were 31730 photons generated.\n",
        "Distributing in energy"
       ]
      },
      {
       "output_type": "stream",
       "stream": "stdout",
       "text": [
        "\n",
        "Light curve integrated!"
       ]
      },
      {
       "output_type": "stream",
       "stream": "stdout",
       "text": [
        "\n",
        "There were 16045 photons generated.\n",
        "Distributing in energy"
       ]
      },
      {
       "output_type": "stream",
       "stream": "stdout",
       "text": [
        "\n",
        "Light curve integrated!"
       ]
      },
      {
       "output_type": "stream",
       "stream": "stdout",
       "text": [
        "\n",
        "There were 17588 photons generated.\n",
        "Distributing in energy"
       ]
      },
      {
       "output_type": "stream",
       "stream": "stdout",
       "text": [
        "\n",
        "Signal generated"
       ]
      },
      {
       "output_type": "stream",
       "stream": "stdout",
       "text": [
        "\n",
        "Folding time tags through response\n",
        "WARNING"
       ]
      },
      {
       "output_type": "stream",
       "stream": "stderr",
       "text": [
        "WARNING:astropy:Overwriting existing file '130427A/b1_simTTE.fit'.\n"
       ]
      },
      {
       "output_type": "stream",
       "stream": "stdout",
       "text": [
        ": Overwriting existing file '130427A/b1_simTTE.fit'. [astropy.io.fits.file]\n",
        "Folding time tags through response\n",
        "WARNING"
       ]
      },
      {
       "output_type": "stream",
       "stream": "stderr",
       "text": [
        "WARNING:astropy:Overwriting existing file '130427A/n6_simTTE.fit'.\n"
       ]
      },
      {
       "output_type": "stream",
       "stream": "stdout",
       "text": [
        ": Overwriting existing file '130427A/n6_simTTE.fit'. [astropy.io.fits.file]\n",
        "Folding time tags through response\n",
        "WARNING"
       ]
      },
      {
       "output_type": "stream",
       "stream": "stderr",
       "text": [
        "WARNING:astropy:Overwriting existing file '130427A/na_simTTE.fit'.\n"
       ]
      },
      {
       "output_type": "stream",
       "stream": "stdout",
       "text": [
        ": Overwriting existing file '130427A/na_simTTE.fit'. [astropy.io.fits.file]\n"
       ]
      }
     ],
     "prompt_number": 5
    },
    {
     "cell_type": "code",
     "collapsed": false,
     "input": [
      "from spectralTools.binning.tteBinning import tteBinning"
     ],
     "language": "python",
     "metadata": {},
     "outputs": [],
     "prompt_number": 1
    },
    {
     "cell_type": "code",
     "collapsed": false,
     "input": [
      "t=linspace(1,100)"
     ],
     "language": "python",
     "metadata": {},
     "outputs": [],
     "prompt_number": 2
    },
    {
     "cell_type": "code",
     "collapsed": false,
     "input": [
      "tb = tteBinning(\"130427A/n6_simTTE.fit\",-5.,20.)"
     ],
     "language": "python",
     "metadata": {},
     "outputs": [],
     "prompt_number": 3
    },
    {
     "cell_type": "code",
     "collapsed": false,
     "input": [
      "tb.MakeBlocks(.05)"
     ],
     "language": "python",
     "metadata": {},
     "outputs": [],
     "prompt_number": 4
    },
    {
     "cell_type": "code",
     "collapsed": false,
     "input": [
      "tb.MakeTI()"
     ],
     "language": "python",
     "metadata": {},
     "outputs": [],
     "prompt_number": 5
    },
    {
     "cell_type": "code",
     "collapsed": false,
     "input": [
      "plot(t,t)"
     ],
     "language": "python",
     "metadata": {},
     "outputs": [
      {
       "metadata": {},
       "output_type": "pyout",
       "prompt_number": 15,
       "text": [
        "[<matplotlib.lines.Line2D at 0x1070706d0>]"
       ]
      },
      {
       "metadata": {},
       "output_type": "display_data",
       "png": "[encoded data removed]",
       "text": [
        "<matplotlib.figure.Figure at 0x107141750>"
       ]
      }
     ],
     "prompt_number": 15
    },
    {
     "cell_type": "code",
     "collapsed": false,
     "input": [],
     "language": "python",
     "metadata": {},
     "outputs": []
    }
   ],
   "metadata": {}
  }
 ]
}